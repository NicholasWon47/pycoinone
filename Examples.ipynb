{
 "cells": [
  {
   "cell_type": "markdown",
   "metadata": {},
   "source": [
    "# pycoinone Examples"
   ]
  },
  {
   "cell_type": "markdown",
   "metadata": {},
   "source": [
    "맨 먼저 사용할 API들을 죄다 import합니다."
   ]
  },
  {
   "cell_type": "code",
   "execution_count": 1,
   "metadata": {},
   "outputs": [],
   "source": [
    "from coinone.api import *"
   ]
  },
  {
   "cell_type": "markdown",
   "metadata": {},
   "source": [
    "## Create API object\n",
    "\n",
    "사용할 API 객체를 생성해 봅시다. `ACCESS_KEY`, `SECRET_KEY` 는 [Coinone API](https://coinone.co.kr/developer/) 사이트에서 발급받읍시다.\n",
    "\n",
    "V1이나 V2 중 마음에 드는 것을 발급받으면 됩니다. 일단 아래에서는 v2를 사용한다고 가정하겠습니다."
   ]
  },
  {
   "cell_type": "code",
   "execution_count": 2,
   "metadata": {},
   "outputs": [],
   "source": [
    "v1 = CoinoneV1('ACCESS_KEY_V1')\n",
    "v2 = CoinoneV2('ACCESS_KEY_V2', 'SECRET_KEY_V2')"
   ]
  },
  {
   "cell_type": "markdown",
   "metadata": {},
   "source": [
    "## Account API set"
   ]
  },
  {
   "cell_type": "markdown",
   "metadata": {},
   "source": [
    "### Balance\n",
    "\n",
    "가장 소중한 여러분의 가상화폐 잔액을 확인해봅시다."
   ]
  },
  {
   "cell_type": "code",
   "execution_count": 3,
   "metadata": {
    "scrolled": false
   },
   "outputs": [
    {
     "data": {
      "text/html": [
       "<table style=\"table-layout: auto; width: 100%\"><thead><tr><th style=\"width: auto; white-space: nowrap\">Field</th><th style=\"width: 100%\">Value</th></tr></thead><tbody><tr><td><pre style=\"width: auto; white-space: nowrap\">result</pre></td><td><span onclick=\"$('input', this).show().val($('span', this).hide().text()).focus()[0].select(); document.execCommand('copy')\"><span>&#x27;success&#x27;</span><input style=\"text-align: right; display: none; border: none; width: 100%; background: transparent;\"></span></td></tr><tr><td><pre style=\"width: auto; white-space: nowrap\">errorCode</pre></td><td><span onclick=\"$('input', this).show().val($('span', this).hide().text()).focus()[0].select(); document.execCommand('copy')\"><span>&#x27;0&#x27;</span><input style=\"text-align: right; display: none; border: none; width: 100%; background: transparent;\"></span></td></tr><tr><td><pre style=\"width: auto; white-space: nowrap\">btc</pre></td><td><table style=\"table-layout: auto; width: 100%\"><thead><tr><th style=\"width: auto; white-space: nowrap\">Field</th><th style=\"width: 100%\">Value</th></tr></thead><tbody><tr><td><pre style=\"width: auto; white-space: nowrap\">avail</pre></td><td><span onclick=\"$('input', this).show().val($('span', this).hide().text()).focus()[0].select(); document.execCommand('copy')\"><span>0.00208645</span><input style=\"text-align: right; display: none; border: none; width: 100%; background: transparent;\"></span></td></tr><tr><td><pre style=\"width: auto; white-space: nowrap\">balance</pre></td><td><span onclick=\"$('input', this).show().val($('span', this).hide().text()).focus()[0].select(); document.execCommand('copy')\"><span>0.00208645</span><input style=\"text-align: right; display: none; border: none; width: 100%; background: transparent;\"></span></td></tr></tbody></table></div></td></tr><tr><td><pre style=\"width: auto; white-space: nowrap\">bch</pre></td><td><table style=\"table-layout: auto; width: 100%\"><thead><tr><th style=\"width: auto; white-space: nowrap\">Field</th><th style=\"width: 100%\">Value</th></tr></thead><tbody><tr><td><pre style=\"width: auto; white-space: nowrap\">avail</pre></td><td><span onclick=\"$('input', this).show().val($('span', this).hide().text()).focus()[0].select(); document.execCommand('copy')\"><span>0.00309535</span><input style=\"text-align: right; display: none; border: none; width: 100%; background: transparent;\"></span></td></tr><tr><td><pre style=\"width: auto; white-space: nowrap\">balance</pre></td><td><span onclick=\"$('input', this).show().val($('span', this).hide().text()).focus()[0].select(); document.execCommand('copy')\"><span>0.00309535</span><input style=\"text-align: right; display: none; border: none; width: 100%; background: transparent;\"></span></td></tr></tbody></table></div></td></tr><tr><td><pre style=\"width: auto; white-space: nowrap\">eth</pre></td><td><table style=\"table-layout: auto; width: 100%\"><thead><tr><th style=\"width: auto; white-space: nowrap\">Field</th><th style=\"width: 100%\">Value</th></tr></thead><tbody><tr><td><pre style=\"width: auto; white-space: nowrap\">avail</pre></td><td><span onclick=\"$('input', this).show().val($('span', this).hide().text()).focus()[0].select(); document.execCommand('copy')\"><span>9.74e-05</span><input style=\"text-align: right; display: none; border: none; width: 100%; background: transparent;\"></span></td></tr><tr><td><pre style=\"width: auto; white-space: nowrap\">balance</pre></td><td><span onclick=\"$('input', this).show().val($('span', this).hide().text()).focus()[0].select(); document.execCommand('copy')\"><span>9.74e-05</span><input style=\"text-align: right; display: none; border: none; width: 100%; background: transparent;\"></span></td></tr></tbody></table></div></td></tr><tr><td><pre style=\"width: auto; white-space: nowrap\">etc</pre></td><td><table style=\"table-layout: auto; width: 100%\"><thead><tr><th style=\"width: auto; white-space: nowrap\">Field</th><th style=\"width: 100%\">Value</th></tr></thead><tbody><tr><td><pre style=\"width: auto; white-space: nowrap\">avail</pre></td><td><span onclick=\"$('input', this).show().val($('span', this).hide().text()).focus()[0].select(); document.execCommand('copy')\"><span>0.0</span><input style=\"text-align: right; display: none; border: none; width: 100%; background: transparent;\"></span></td></tr><tr><td><pre style=\"width: auto; white-space: nowrap\">balance</pre></td><td><span onclick=\"$('input', this).show().val($('span', this).hide().text()).focus()[0].select(); document.execCommand('copy')\"><span>0.0</span><input style=\"text-align: right; display: none; border: none; width: 100%; background: transparent;\"></span></td></tr></tbody></table></div></td></tr><tr><td><pre style=\"width: auto; white-space: nowrap\">xrp</pre></td><td><table style=\"table-layout: auto; width: 100%\"><thead><tr><th style=\"width: auto; white-space: nowrap\">Field</th><th style=\"width: 100%\">Value</th></tr></thead><tbody><tr><td><pre style=\"width: auto; white-space: nowrap\">avail</pre></td><td><span onclick=\"$('input', this).show().val($('span', this).hide().text()).focus()[0].select(); document.execCommand('copy')\"><span>7.525e-05</span><input style=\"text-align: right; display: none; border: none; width: 100%; background: transparent;\"></span></td></tr><tr><td><pre style=\"width: auto; white-space: nowrap\">balance</pre></td><td><span onclick=\"$('input', this).show().val($('span', this).hide().text()).focus()[0].select(); document.execCommand('copy')\"><span>7.525e-05</span><input style=\"text-align: right; display: none; border: none; width: 100%; background: transparent;\"></span></td></tr></tbody></table></div></td></tr><tr><td><pre style=\"width: auto; white-space: nowrap\">qtum</pre></td><td><table style=\"table-layout: auto; width: 100%\"><thead><tr><th style=\"width: auto; white-space: nowrap\">Field</th><th style=\"width: 100%\">Value</th></tr></thead><tbody><tr><td><pre style=\"width: auto; white-space: nowrap\">avail</pre></td><td><span onclick=\"$('input', this).show().val($('span', this).hide().text()).focus()[0].select(); document.execCommand('copy')\"><span>0.0</span><input style=\"text-align: right; display: none; border: none; width: 100%; background: transparent;\"></span></td></tr><tr><td><pre style=\"width: auto; white-space: nowrap\">balance</pre></td><td><span onclick=\"$('input', this).show().val($('span', this).hide().text()).focus()[0].select(); document.execCommand('copy')\"><span>0.0</span><input style=\"text-align: right; display: none; border: none; width: 100%; background: transparent;\"></span></td></tr></tbody></table></div></td></tr><tr><td><pre style=\"width: auto; white-space: nowrap\">iota</pre></td><td><table style=\"table-layout: auto; width: 100%\"><thead><tr><th style=\"width: auto; white-space: nowrap\">Field</th><th style=\"width: 100%\">Value</th></tr></thead><tbody><tr><td><pre style=\"width: auto; white-space: nowrap\">avail</pre></td><td><span onclick=\"$('input', this).show().val($('span', this).hide().text()).focus()[0].select(); document.execCommand('copy')\"><span>0.0</span><input style=\"text-align: right; display: none; border: none; width: 100%; background: transparent;\"></span></td></tr><tr><td><pre style=\"width: auto; white-space: nowrap\">balance</pre></td><td><span onclick=\"$('input', this).show().val($('span', this).hide().text()).focus()[0].select(); document.execCommand('copy')\"><span>0.0</span><input style=\"text-align: right; display: none; border: none; width: 100%; background: transparent;\"></span></td></tr></tbody></table></div></td></tr><tr><td><pre style=\"width: auto; white-space: nowrap\">ltc</pre></td><td><table style=\"table-layout: auto; width: 100%\"><thead><tr><th style=\"width: auto; white-space: nowrap\">Field</th><th style=\"width: 100%\">Value</th></tr></thead><tbody><tr><td><pre style=\"width: auto; white-space: nowrap\">avail</pre></td><td><span onclick=\"$('input', this).show().val($('span', this).hide().text()).focus()[0].select(); document.execCommand('copy')\"><span>0.0</span><input style=\"text-align: right; display: none; border: none; width: 100%; background: transparent;\"></span></td></tr><tr><td><pre style=\"width: auto; white-space: nowrap\">balance</pre></td><td><span onclick=\"$('input', this).show().val($('span', this).hide().text()).focus()[0].select(); document.execCommand('copy')\"><span>0.0</span><input style=\"text-align: right; display: none; border: none; width: 100%; background: transparent;\"></span></td></tr></tbody></table></div></td></tr><tr><td><pre style=\"width: auto; white-space: nowrap\">krw</pre></td><td><table style=\"table-layout: auto; width: 100%\"><thead><tr><th style=\"width: auto; white-space: nowrap\">Field</th><th style=\"width: 100%\">Value</th></tr></thead><tbody><tr><td><pre style=\"width: auto; white-space: nowrap\">avail</pre></td><td><span onclick=\"$('input', this).show().val($('span', this).hide().text()).focus()[0].select(); document.execCommand('copy')\"><span>24421</span><input style=\"text-align: right; display: none; border: none; width: 100%; background: transparent;\"></span></td></tr><tr><td><pre style=\"width: auto; white-space: nowrap\">balance</pre></td><td><span onclick=\"$('input', this).show().val($('span', this).hide().text()).focus()[0].select(); document.execCommand('copy')\"><span>24421</span><input style=\"text-align: right; display: none; border: none; width: 100%; background: transparent;\"></span></td></tr></tbody></table></div></td></tr><tr><td><pre style=\"width: auto; white-space: nowrap\">normalWallets</pre></td><td><ul style=\"max-height: 20em; overflow-y: auto\"><li><table style=\"table-layout: auto; width: 100%\"><thead><tr><th style=\"width: auto; white-space: nowrap\">Field</th><th style=\"width: 100%\">Value</th></tr></thead><tbody><tr><td><pre style=\"width: auto; white-space: nowrap\">balance</pre></td><td><span onclick=\"$('input', this).show().val($('span', this).hide().text()).focus()[0].select(); document.execCommand('copy')\"><span>0.0</span><input style=\"text-align: right; display: none; border: none; width: 100%; background: transparent;\"></span></td></tr><tr><td><pre style=\"width: auto; white-space: nowrap\">label</pre></td><td><span onclick=\"$('input', this).show().val($('span', this).hide().text()).focus()[0].select(); document.execCommand('copy')\"><span>&#x27;main&#x27;</span><input style=\"text-align: right; display: none; border: none; width: 100%; background: transparent;\"></span></td></tr></tbody></table></div></li></ul></td></tr></tbody></table></div>"
      ],
      "text/plain": [
       "<coinone.api.v2.account.Balance at 0x104937ef0>"
      ]
     },
     "execution_count": 3,
     "metadata": {},
     "output_type": "execute_result"
    }
   ],
   "source": [
    "v2.account.balance()"
   ]
  },
  {
   "cell_type": "markdown",
   "metadata": {},
   "source": [
    "API 호출 결과를 `jupyter notebook`에 찍으면 위에 보이는거처럼 표로 만들어 보여줍니다. 각 원소를 직접 확인하고 싶다면 다음의 두 방법 중 마음에 드는 것으로 할 수 있습니다."
   ]
  },
  {
   "cell_type": "code",
   "execution_count": 4,
   "metadata": {},
   "outputs": [
    {
     "data": {
      "text/plain": [
       "24421"
      ]
     },
     "execution_count": 4,
     "metadata": {},
     "output_type": "execute_result"
    }
   ],
   "source": [
    "# First method\n",
    "v2.account.balance().krw.avail\n",
    "\n",
    "# Second method\n",
    "balance = v2.account.balance()\n",
    "balance.krw.avail"
   ]
  },
  {
   "cell_type": "markdown",
   "metadata": {},
   "source": [
    "둘 다 똑같으니 맘에 드는 걸로 쓰세요.\n",
    "\n",
    "어쨌든, 각 원소를 확인하는 법은 다 똑같으니 이 후로는 생락하겠습니다."
   ]
  },
  {
   "cell_type": "markdown",
   "metadata": {},
   "source": [
    "### Daily Balance"
   ]
  },
  {
   "cell_type": "code",
   "execution_count": 5,
   "metadata": {
    "scrolled": false
   },
   "outputs": [
    {
     "data": {
      "text/html": [
       "<table style=\"table-layout: auto; width: 100%\"><thead><tr><th style=\"width: auto; white-space: nowrap\">Field</th><th style=\"width: 100%\">Value</th></tr></thead><tbody><tr><td><pre style=\"width: auto; white-space: nowrap\">result</pre></td><td><span onclick=\"$('input', this).show().val($('span', this).hide().text()).focus()[0].select(); document.execCommand('copy')\"><span>&#x27;success&#x27;</span><input style=\"text-align: right; display: none; border: none; width: 100%; background: transparent;\"></span></td></tr><tr><td><pre style=\"width: auto; white-space: nowrap\">errorCode</pre></td><td><span onclick=\"$('input', this).show().val($('span', this).hide().text()).focus()[0].select(); document.execCommand('copy')\"><span>&#x27;0&#x27;</span><input style=\"text-align: right; display: none; border: none; width: 100%; background: transparent;\"></span></td></tr><tr><td><pre style=\"width: auto; white-space: nowrap\">dailyBalance</pre></td><td><ul style=\"max-height: 20em; overflow-y: auto\"><li><table style=\"table-layout: auto; width: 100%\"><thead><tr><th style=\"width: auto; white-space: nowrap\">Field</th><th style=\"width: 100%\">Value</th></tr></thead><tbody><tr><td><pre style=\"width: auto; white-space: nowrap\">timestamp</pre></td><td><span onclick=\"$('input', this).show().val($('span', this).hide().text()).focus()[0].select(); document.execCommand('copy')\"><span>1512345600</span><input style=\"text-align: right; display: none; border: none; width: 100%; background: transparent;\"></span></td></tr><tr><td><pre style=\"width: auto; white-space: nowrap\">value</pre></td><td><span onclick=\"$('input', this).show().val($('span', this).hide().text()).focus()[0].select(); document.execCommand('copy')\"><span>51196</span><input style=\"text-align: right; display: none; border: none; width: 100%; background: transparent;\"></span></td></tr><tr><td><pre style=\"width: auto; white-space: nowrap\">krw</pre></td><td><span onclick=\"$('input', this).show().val($('span', this).hide().text()).focus()[0].select(); document.execCommand('copy')\"><span>24421</span><input style=\"text-align: right; display: none; border: none; width: 100%; background: transparent;\"></span></td></tr><tr><td><pre style=\"width: auto; white-space: nowrap\">btc</pre></td><td><span onclick=\"$('input', this).show().val($('span', this).hide().text()).focus()[0].select(); document.execCommand('copy')\"><span>0.00208645</span><input style=\"text-align: right; display: none; border: none; width: 100%; background: transparent;\"></span></td></tr><tr><td><pre style=\"width: auto; white-space: nowrap\">bch</pre></td><td><span onclick=\"$('input', this).show().val($('span', this).hide().text()).focus()[0].select(); document.execCommand('copy')\"><span>0.00309535</span><input style=\"text-align: right; display: none; border: none; width: 100%; background: transparent;\"></span></td></tr><tr><td><pre style=\"width: auto; white-space: nowrap\">eth</pre></td><td><span onclick=\"$('input', this).show().val($('span', this).hide().text()).focus()[0].select(); document.execCommand('copy')\"><span>9.74e-05</span><input style=\"text-align: right; display: none; border: none; width: 100%; background: transparent;\"></span></td></tr><tr><td><pre style=\"width: auto; white-space: nowrap\">etc</pre></td><td><span onclick=\"$('input', this).show().val($('span', this).hide().text()).focus()[0].select(); document.execCommand('copy')\"><span>0.0</span><input style=\"text-align: right; display: none; border: none; width: 100%; background: transparent;\"></span></td></tr><tr><td><pre style=\"width: auto; white-space: nowrap\">xrp</pre></td><td><span onclick=\"$('input', this).show().val($('span', this).hide().text()).focus()[0].select(); document.execCommand('copy')\"><span>7.525e-05</span><input style=\"text-align: right; display: none; border: none; width: 100%; background: transparent;\"></span></td></tr><tr><td><pre style=\"width: auto; white-space: nowrap\">qtum</pre></td><td><span onclick=\"$('input', this).show().val($('span', this).hide().text()).focus()[0].select(); document.execCommand('copy')\"><span>0.0</span><input style=\"text-align: right; display: none; border: none; width: 100%; background: transparent;\"></span></td></tr><tr><td><pre style=\"width: auto; white-space: nowrap\">iota</pre></td><td><span onclick=\"$('input', this).show().val($('span', this).hide().text()).focus()[0].select(); document.execCommand('copy')\"><span>0.0</span><input style=\"text-align: right; display: none; border: none; width: 100%; background: transparent;\"></span></td></tr><tr><td><pre style=\"width: auto; white-space: nowrap\">ltc</pre></td><td><span onclick=\"$('input', this).show().val($('span', this).hide().text()).focus()[0].select(); document.execCommand('copy')\"><span>0.0</span><input style=\"text-align: right; display: none; border: none; width: 100%; background: transparent;\"></span></td></tr></tbody></table></div></li><li>&hellip;</li></ul></td></tr></tbody></table></div>"
      ],
      "text/plain": [
       "<coinone.api.v2.account.DailyBalance at 0x10524d080>"
      ]
     },
     "execution_count": 5,
     "metadata": {},
     "output_type": "execute_result"
    }
   ],
   "source": [
    "v2.account.daily_balance()"
   ]
  },
  {
   "cell_type": "markdown",
   "metadata": {},
   "source": [
    "### Deposit Address\n",
    "\n",
    "가상화폐 입금 계좌 정보를 알아봅시다."
   ]
  },
  {
   "cell_type": "code",
   "execution_count": 6,
   "metadata": {},
   "outputs": [
    {
     "data": {
      "text/html": [
       "<table style=\"table-layout: auto; width: 100%\"><thead><tr><th style=\"width: auto; white-space: nowrap\">Field</th><th style=\"width: 100%\">Value</th></tr></thead><tbody><tr><td><pre style=\"width: auto; white-space: nowrap\">errorCode</pre></td><td><span onclick=\"$('input', this).show().val($('span', this).hide().text()).focus()[0].select(); document.execCommand('copy')\"><span>&#x27;0&#x27;</span><input style=\"text-align: right; display: none; border: none; width: 100%; background: transparent;\"></span></td></tr><tr><td><pre style=\"width: auto; white-space: nowrap\">walletAddress</pre></td><td><table style=\"table-layout: auto; width: 100%\"><thead><tr><th style=\"width: auto; white-space: nowrap\">Field</th><th style=\"width: 100%\">Value</th></tr></thead><tbody><tr><td><pre style=\"width: auto; white-space: nowrap\">xrp_tag</pre></td><td><span onclick=\"$('input', this).show().val($('span', this).hide().text()).focus()[0].select(); document.execCommand('copy')\"><span>&#x27;1339562854&#x27;</span><input style=\"text-align: right; display: none; border: none; width: 100%; background: transparent;\"></span></td></tr><tr><td><pre style=\"width: auto; white-space: nowrap\">etc</pre></td><td><span onclick=\"$('input', this).show().val($('span', this).hide().text()).focus()[0].select(); document.execCommand('copy')\"><span>&#x27;0x9408138DD862BBA38FE021381BA5D00DFCA8F6FE&#x27;</span><input style=\"text-align: right; display: none; border: none; width: 100%; background: transparent;\"></span></td></tr><tr><td><pre style=\"width: auto; white-space: nowrap\">bch</pre></td><td><span onclick=\"$('input', this).show().val($('span', this).hide().text()).focus()[0].select(); document.execCommand('copy')\"><span>None</span><input style=\"text-align: right; display: none; border: none; width: 100%; background: transparent;\"></span></td></tr><tr><td><pre style=\"width: auto; white-space: nowrap\">btc</pre></td><td><span onclick=\"$('input', this).show().val($('span', this).hide().text()).focus()[0].select(); document.execCommand('copy')\"><span>None</span><input style=\"text-align: right; display: none; border: none; width: 100%; background: transparent;\"></span></td></tr><tr><td><pre style=\"width: auto; white-space: nowrap\">ltc</pre></td><td><span onclick=\"$('input', this).show().val($('span', this).hide().text()).focus()[0].select(); document.execCommand('copy')\"><span>None</span><input style=\"text-align: right; display: none; border: none; width: 100%; background: transparent;\"></span></td></tr><tr><td><pre style=\"width: auto; white-space: nowrap\">qtum</pre></td><td><span onclick=\"$('input', this).show().val($('span', this).hide().text()).focus()[0].select(); document.execCommand('copy')\"><span>None</span><input style=\"text-align: right; display: none; border: none; width: 100%; background: transparent;\"></span></td></tr><tr><td><pre style=\"width: auto; white-space: nowrap\">eth</pre></td><td><span onclick=\"$('input', this).show().val($('span', this).hide().text()).focus()[0].select(); document.execCommand('copy')\"><span>&#x27;0xD5D87E66DF4F6E611D44F27DED6D6F67BF0B316B&#x27;</span><input style=\"text-align: right; display: none; border: none; width: 100%; background: transparent;\"></span></td></tr><tr><td><pre style=\"width: auto; white-space: nowrap\">xrp</pre></td><td><span onclick=\"$('input', this).show().val($('span', this).hide().text()).focus()[0].select(); document.execCommand('copy')\"><span>&#x27;rp2diYfVtpbgEMyaoWnuaWgFCAkqCAEg28&#x27;</span><input style=\"text-align: right; display: none; border: none; width: 100%; background: transparent;\"></span></td></tr><tr><td><pre style=\"width: auto; white-space: nowrap\">iota</pre></td><td><span onclick=\"$('input', this).show().val($('span', this).hide().text()).focus()[0].select(); document.execCommand('copy')\"><span>None</span><input style=\"text-align: right; display: none; border: none; width: 100%; background: transparent;\"></span></td></tr></tbody></table></div></td></tr><tr><td><pre style=\"width: auto; white-space: nowrap\">result</pre></td><td><span onclick=\"$('input', this).show().val($('span', this).hide().text()).focus()[0].select(); document.execCommand('copy')\"><span>&#x27;success&#x27;</span><input style=\"text-align: right; display: none; border: none; width: 100%; background: transparent;\"></span></td></tr></tbody></table></div>"
      ],
      "text/plain": [
       "{'errorCode': '0',\n",
       " 'result': 'success',\n",
       " 'walletAddress': {'bch': None,\n",
       "  'btc': None,\n",
       "  'etc': '0x9408138DD862BBA38FE021381BA5D00DFCA8F6FE',\n",
       "  'eth': '0xD5D87E66DF4F6E611D44F27DED6D6F67BF0B316B',\n",
       "  'iota': None,\n",
       "  'ltc': None,\n",
       "  'qtum': None,\n",
       "  'xrp': 'rp2diYfVtpbgEMyaoWnuaWgFCAkqCAEg28',\n",
       "  'xrp_tag': '1339562854'}}"
      ]
     },
     "execution_count": 6,
     "metadata": {},
     "output_type": "execute_result"
    }
   ],
   "source": [
    "v2.account.deposit_address()"
   ]
  },
  {
   "cell_type": "markdown",
   "metadata": {},
   "source": [
    "### User Information\n",
    "\n",
    "내 계정의 정보도 한번 알아봅시다."
   ]
  },
  {
   "cell_type": "code",
   "execution_count": 7,
   "metadata": {
    "scrolled": true
   },
   "outputs": [
    {
     "data": {
      "text/html": [
       "<table style=\"table-layout: auto; width: 100%\"><thead><tr><th style=\"width: auto; white-space: nowrap\">Field</th><th style=\"width: 100%\">Value</th></tr></thead><tbody><tr><td><pre style=\"width: auto; white-space: nowrap\">result</pre></td><td><span onclick=\"$('input', this).show().val($('span', this).hide().text()).focus()[0].select(); document.execCommand('copy')\"><span>&#x27;success&#x27;</span><input style=\"text-align: right; display: none; border: none; width: 100%; background: transparent;\"></span></td></tr><tr><td><pre style=\"width: auto; white-space: nowrap\">errorCode</pre></td><td><span onclick=\"$('input', this).show().val($('span', this).hide().text()).focus()[0].select(); document.execCommand('copy')\"><span>&#x27;0&#x27;</span><input style=\"text-align: right; display: none; border: none; width: 100%; background: transparent;\"></span></td></tr><tr><td><pre style=\"width: auto; white-space: nowrap\">userInfo</pre></td><td><table style=\"table-layout: auto; width: 100%\"><thead><tr><th style=\"width: auto; white-space: nowrap\">Field</th><th style=\"width: 100%\">Value</th></tr></thead><tbody><tr><td><pre style=\"width: auto; white-space: nowrap\">virtualAccountInfo</pre></td><td><table style=\"table-layout: auto; width: 100%\"><thead><tr><th style=\"width: auto; white-space: nowrap\">Field</th><th style=\"width: 100%\">Value</th></tr></thead><tbody><tr><td><pre style=\"width: auto; white-space: nowrap\">depositor</pre></td><td><span onclick=\"$('input', this).show().val($('span', this).hide().text()).focus()[0].select(); document.execCommand('copy')\"><span>&#x27;코인원거래소&#x27;</span><input style=\"text-align: right; display: none; border: none; width: 100%; background: transparent;\"></span></td></tr><tr><td><pre style=\"width: auto; white-space: nowrap\">accountNumber</pre></td><td><span onclick=\"$('input', this).show().val($('span', this).hide().text()).focus()[0].select(); document.execCommand('copy')\"><span>&#x27;00000000000000  &#x27;</span><input style=\"text-align: right; display: none; border: none; width: 100%; background: transparent;\"></span></td></tr><tr><td><pre style=\"width: auto; white-space: nowrap\">bankName</pre></td><td><span onclick=\"$('input', this).show().val($('span', this).hide().text()).focus()[0].select(); document.execCommand('copy')\"><span>&#x27;산업은행&#x27;</span><input style=\"text-align: right; display: none; border: none; width: 100%; background: transparent;\"></span></td></tr></tbody></table></div></td></tr><tr><td><pre style=\"width: auto; white-space: nowrap\">mobileInfo</pre></td><td><table style=\"table-layout: auto; width: 100%\"><thead><tr><th style=\"width: auto; white-space: nowrap\">Field</th><th style=\"width: 100%\">Value</th></tr></thead><tbody><tr><td><pre style=\"width: auto; white-space: nowrap\">userName</pre></td><td><span onclick=\"$('input', this).show().val($('span', this).hide().text()).focus()[0].select(); document.execCommand('copy')\"><span>&#x27;이성광&#x27;</span><input style=\"text-align: right; display: none; border: none; width: 100%; background: transparent;\"></span></td></tr><tr><td><pre style=\"width: auto; white-space: nowrap\">phoneNumber</pre></td><td><span onclick=\"$('input', this).show().val($('span', this).hide().text()).focus()[0].select(); document.execCommand('copy')\"><span>&#x27;00000000000&#x27;</span><input style=\"text-align: right; display: none; border: none; width: 100%; background: transparent;\"></span></td></tr><tr><td><pre style=\"width: auto; white-space: nowrap\">phoneCorp</pre></td><td><span onclick=\"$('input', this).show().val($('span', this).hide().text()).focus()[0].select(); document.execCommand('copy')\"><span>&#x27;0&#x27;</span><input style=\"text-align: right; display: none; border: none; width: 100%; background: transparent;\"></span></td></tr><tr><td><pre style=\"width: auto; white-space: nowrap\">isAuthenticated</pre></td><td>🔵 True</td></tr></tbody></table></div></td></tr><tr><td><pre style=\"width: auto; white-space: nowrap\">bankInfo</pre></td><td><table style=\"table-layout: auto; width: 100%\"><thead><tr><th style=\"width: auto; white-space: nowrap\">Field</th><th style=\"width: 100%\">Value</th></tr></thead><tbody><tr><td><pre style=\"width: auto; white-space: nowrap\">depositor</pre></td><td><span onclick=\"$('input', this).show().val($('span', this).hide().text()).focus()[0].select(); document.execCommand('copy')\"><span>&#x27;이성광&#x27;</span><input style=\"text-align: right; display: none; border: none; width: 100%; background: transparent;\"></span></td></tr><tr><td><pre style=\"width: auto; white-space: nowrap\">bankCode</pre></td><td><span onclick=\"$('input', this).show().val($('span', this).hide().text()).focus()[0].select(); document.execCommand('copy')\"><span>&#x27;20&#x27;</span><input style=\"text-align: right; display: none; border: none; width: 100%; background: transparent;\"></span></td></tr><tr><td><pre style=\"width: auto; white-space: nowrap\">accountNumber</pre></td><td><span onclick=\"$('input', this).show().val($('span', this).hide().text()).focus()[0].select(); document.execCommand('copy')\"><span>&#x27;0000000000000&#x27;</span><input style=\"text-align: right; display: none; border: none; width: 100%; background: transparent;\"></span></td></tr><tr><td><pre style=\"width: auto; white-space: nowrap\">isAuthenticated</pre></td><td>🔵 True</td></tr></tbody></table></div></td></tr><tr><td><pre style=\"width: auto; white-space: nowrap\">emailInfo</pre></td><td><table style=\"table-layout: auto; width: 100%\"><thead><tr><th style=\"width: auto; white-space: nowrap\">Field</th><th style=\"width: 100%\">Value</th></tr></thead><tbody><tr><td><pre style=\"width: auto; white-space: nowrap\">isAuthenticated</pre></td><td>🔵 True</td></tr><tr><td><pre style=\"width: auto; white-space: nowrap\">email</pre></td><td><span onclick=\"$('input', this).show().val($('span', this).hide().text()).focus()[0].select(); document.execCommand('copy')\"><span>&#x27;gwangyi.kr@gmail.com&#x27;</span><input style=\"text-align: right; display: none; border: none; width: 100%; background: transparent;\"></span></td></tr></tbody></table></div></td></tr><tr><td><pre style=\"width: auto; white-space: nowrap\">securityLevel</pre></td><td><span onclick=\"$('input', this).show().val($('span', this).hide().text()).focus()[0].select(); document.execCommand('copy')\"><span>5</span><input style=\"text-align: right; display: none; border: none; width: 100%; background: transparent;\"></span></td></tr><tr><td><pre style=\"width: auto; white-space: nowrap\">feeRate</pre></td><td><table style=\"table-layout: auto; width: 100%\"><thead><tr><th style=\"width: auto; white-space: nowrap\">Field</th><th style=\"width: 100%\">Value</th></tr></thead><tbody><tr><td><pre style=\"width: auto; white-space: nowrap\">btc</pre></td><td><table style=\"table-layout: auto; width: 100%\"><thead><tr><th style=\"width: auto; white-space: nowrap\">Field</th><th style=\"width: 100%\">Value</th></tr></thead><tbody><tr><td><pre style=\"width: auto; white-space: nowrap\">maker</pre></td><td><span onclick=\"$('input', this).show().val($('span', this).hide().text()).focus()[0].select(); document.execCommand('copy')\"><span>0.001</span><input style=\"text-align: right; display: none; border: none; width: 100%; background: transparent;\"></span></td></tr><tr><td><pre style=\"width: auto; white-space: nowrap\">taker</pre></td><td><span onclick=\"$('input', this).show().val($('span', this).hide().text()).focus()[0].select(); document.execCommand('copy')\"><span>0.001</span><input style=\"text-align: right; display: none; border: none; width: 100%; background: transparent;\"></span></td></tr></tbody></table></div></td></tr><tr><td><pre style=\"width: auto; white-space: nowrap\">bch</pre></td><td><table style=\"table-layout: auto; width: 100%\"><thead><tr><th style=\"width: auto; white-space: nowrap\">Field</th><th style=\"width: 100%\">Value</th></tr></thead><tbody><tr><td><pre style=\"width: auto; white-space: nowrap\">maker</pre></td><td><span onclick=\"$('input', this).show().val($('span', this).hide().text()).focus()[0].select(); document.execCommand('copy')\"><span>0.0</span><input style=\"text-align: right; display: none; border: none; width: 100%; background: transparent;\"></span></td></tr><tr><td><pre style=\"width: auto; white-space: nowrap\">taker</pre></td><td><span onclick=\"$('input', this).show().val($('span', this).hide().text()).focus()[0].select(); document.execCommand('copy')\"><span>0.0</span><input style=\"text-align: right; display: none; border: none; width: 100%; background: transparent;\"></span></td></tr></tbody></table></div></td></tr><tr><td><pre style=\"width: auto; white-space: nowrap\">eth</pre></td><td><table style=\"table-layout: auto; width: 100%\"><thead><tr><th style=\"width: auto; white-space: nowrap\">Field</th><th style=\"width: 100%\">Value</th></tr></thead><tbody><tr><td><pre style=\"width: auto; white-space: nowrap\">maker</pre></td><td><span onclick=\"$('input', this).show().val($('span', this).hide().text()).focus()[0].select(); document.execCommand('copy')\"><span>0.001</span><input style=\"text-align: right; display: none; border: none; width: 100%; background: transparent;\"></span></td></tr><tr><td><pre style=\"width: auto; white-space: nowrap\">taker</pre></td><td><span onclick=\"$('input', this).show().val($('span', this).hide().text()).focus()[0].select(); document.execCommand('copy')\"><span>0.001</span><input style=\"text-align: right; display: none; border: none; width: 100%; background: transparent;\"></span></td></tr></tbody></table></div></td></tr><tr><td><pre style=\"width: auto; white-space: nowrap\">etc</pre></td><td><table style=\"table-layout: auto; width: 100%\"><thead><tr><th style=\"width: auto; white-space: nowrap\">Field</th><th style=\"width: 100%\">Value</th></tr></thead><tbody><tr><td><pre style=\"width: auto; white-space: nowrap\">maker</pre></td><td><span onclick=\"$('input', this).show().val($('span', this).hide().text()).focus()[0].select(); document.execCommand('copy')\"><span>0.001</span><input style=\"text-align: right; display: none; border: none; width: 100%; background: transparent;\"></span></td></tr><tr><td><pre style=\"width: auto; white-space: nowrap\">taker</pre></td><td><span onclick=\"$('input', this).show().val($('span', this).hide().text()).focus()[0].select(); document.execCommand('copy')\"><span>0.001</span><input style=\"text-align: right; display: none; border: none; width: 100%; background: transparent;\"></span></td></tr></tbody></table></div></td></tr><tr><td><pre style=\"width: auto; white-space: nowrap\">xrp</pre></td><td><table style=\"table-layout: auto; width: 100%\"><thead><tr><th style=\"width: auto; white-space: nowrap\">Field</th><th style=\"width: 100%\">Value</th></tr></thead><tbody><tr><td><pre style=\"width: auto; white-space: nowrap\">maker</pre></td><td><span onclick=\"$('input', this).show().val($('span', this).hide().text()).focus()[0].select(); document.execCommand('copy')\"><span>0.0</span><input style=\"text-align: right; display: none; border: none; width: 100%; background: transparent;\"></span></td></tr><tr><td><pre style=\"width: auto; white-space: nowrap\">taker</pre></td><td><span onclick=\"$('input', this).show().val($('span', this).hide().text()).focus()[0].select(); document.execCommand('copy')\"><span>0.0</span><input style=\"text-align: right; display: none; border: none; width: 100%; background: transparent;\"></span></td></tr></tbody></table></div></td></tr><tr><td><pre style=\"width: auto; white-space: nowrap\">qtum</pre></td><td><table style=\"table-layout: auto; width: 100%\"><thead><tr><th style=\"width: auto; white-space: nowrap\">Field</th><th style=\"width: 100%\">Value</th></tr></thead><tbody><tr><td><pre style=\"width: auto; white-space: nowrap\">maker</pre></td><td><span onclick=\"$('input', this).show().val($('span', this).hide().text()).focus()[0].select(); document.execCommand('copy')\"><span>0.0</span><input style=\"text-align: right; display: none; border: none; width: 100%; background: transparent;\"></span></td></tr><tr><td><pre style=\"width: auto; white-space: nowrap\">taker</pre></td><td><span onclick=\"$('input', this).show().val($('span', this).hide().text()).focus()[0].select(); document.execCommand('copy')\"><span>0.0</span><input style=\"text-align: right; display: none; border: none; width: 100%; background: transparent;\"></span></td></tr></tbody></table></div></td></tr><tr><td><pre style=\"width: auto; white-space: nowrap\">iota</pre></td><td><table style=\"table-layout: auto; width: 100%\"><thead><tr><th style=\"width: auto; white-space: nowrap\">Field</th><th style=\"width: 100%\">Value</th></tr></thead><tbody><tr><td><pre style=\"width: auto; white-space: nowrap\">maker</pre></td><td><span onclick=\"$('input', this).show().val($('span', this).hide().text()).focus()[0].select(); document.execCommand('copy')\"><span>0.0</span><input style=\"text-align: right; display: none; border: none; width: 100%; background: transparent;\"></span></td></tr><tr><td><pre style=\"width: auto; white-space: nowrap\">taker</pre></td><td><span onclick=\"$('input', this).show().val($('span', this).hide().text()).focus()[0].select(); document.execCommand('copy')\"><span>0.0</span><input style=\"text-align: right; display: none; border: none; width: 100%; background: transparent;\"></span></td></tr></tbody></table></div></td></tr><tr><td><pre style=\"width: auto; white-space: nowrap\">ltc</pre></td><td><table style=\"table-layout: auto; width: 100%\"><thead><tr><th style=\"width: auto; white-space: nowrap\">Field</th><th style=\"width: 100%\">Value</th></tr></thead><tbody><tr><td><pre style=\"width: auto; white-space: nowrap\">maker</pre></td><td><span onclick=\"$('input', this).show().val($('span', this).hide().text()).focus()[0].select(); document.execCommand('copy')\"><span>0.0</span><input style=\"text-align: right; display: none; border: none; width: 100%; background: transparent;\"></span></td></tr><tr><td><pre style=\"width: auto; white-space: nowrap\">taker</pre></td><td><span onclick=\"$('input', this).show().val($('span', this).hide().text()).focus()[0].select(); document.execCommand('copy')\"><span>0.0</span><input style=\"text-align: right; display: none; border: none; width: 100%; background: transparent;\"></span></td></tr></tbody></table></div></td></tr></tbody></table></div></td></tr></tbody></table></div></td></tr></tbody></table></div>"
      ],
      "text/plain": [
       "<coinone.api.v2.account.UserInfo at 0x105647ba8>"
      ]
     },
     "execution_count": 7,
     "metadata": {},
     "output_type": "execute_result"
    }
   ],
   "source": [
    "v2.account.user_info()"
   ]
  },
  {
   "cell_type": "markdown",
   "metadata": {},
   "source": [
    "### Virtual Account\n",
    "\n",
    "그럼 이제 입금용 가상계좌 정보도 확인해봅시다."
   ]
  },
  {
   "cell_type": "code",
   "execution_count": 8,
   "metadata": {},
   "outputs": [
    {
     "data": {
      "text/html": [
       "<table style=\"table-layout: auto; width: 100%\"><thead><tr><th style=\"width: auto; white-space: nowrap\">Field</th><th style=\"width: 100%\">Value</th></tr></thead><tbody><tr><td><pre style=\"width: auto; white-space: nowrap\">result</pre></td><td><span onclick=\"$('input', this).show().val($('span', this).hide().text()).focus()[0].select(); document.execCommand('copy')\"><span>&#x27;success&#x27;</span><input style=\"text-align: right; display: none; border: none; width: 100%; background: transparent;\"></span></td></tr><tr><td><pre style=\"width: auto; white-space: nowrap\">errorCode</pre></td><td><span onclick=\"$('input', this).show().val($('span', this).hide().text()).focus()[0].select(); document.execCommand('copy')\"><span>&#x27;0&#x27;</span><input style=\"text-align: right; display: none; border: none; width: 100%; background: transparent;\"></span></td></tr><tr><td><pre style=\"width: auto; white-space: nowrap\">accountNumber</pre></td><td><span onclick=\"$('input', this).show().val($('span', this).hide().text()).focus()[0].select(); document.execCommand('copy')\"><span>&#x27;00000000000000  &#x27;</span><input style=\"text-align: right; display: none; border: none; width: 100%; background: transparent;\"></span></td></tr><tr><td><pre style=\"width: auto; white-space: nowrap\">depositor</pre></td><td><span onclick=\"$('input', this).show().val($('span', this).hide().text()).focus()[0].select(); document.execCommand('copy')\"><span>&#x27;코인원거래소&#x27;</span><input style=\"text-align: right; display: none; border: none; width: 100%; background: transparent;\"></span></td></tr><tr><td><pre style=\"width: auto; white-space: nowrap\">bankName</pre></td><td><span onclick=\"$('input', this).show().val($('span', this).hide().text()).focus()[0].select(); document.execCommand('copy')\"><span>&#x27;산업은행&#x27;</span><input style=\"text-align: right; display: none; border: none; width: 100%; background: transparent;\"></span></td></tr></tbody></table></div>"
      ],
      "text/plain": [
       "<coinone.api.common.account.VirtualAccount at 0x10522fba8>"
      ]
     },
     "execution_count": 8,
     "metadata": {},
     "output_type": "execute_result"
    }
   ],
   "source": [
    "v2.account.virtual_account()"
   ]
  },
  {
   "cell_type": "markdown",
   "metadata": {},
   "source": [
    "## Order\n",
    "\n",
    "Order API는 매우 조심히 다뤄야 합니다. 여러분의 소중한 가상화폐를 *마음대로* 사고 팔 수 있거든요. Transaction API 들도 가상화폐를 넣고 뺄 수 있지만, 이중 인증을 쓰기 때문에 Order API와는 다릅니다.\n",
    "\n",
    "혹시나 이 노트북을 run all로 실행하실 분이 계실지 모르니, 이쯤에서 잠깐 쉬었다 가죠."
   ]
  },
  {
   "cell_type": "code",
   "execution_count": 9,
   "metadata": {},
   "outputs": [
    {
     "ename": "KeyboardInterrupt",
     "evalue": "",
     "output_type": "error",
     "traceback": [
      "\u001b[0;31m---------------------------------------------------------------------------\u001b[0m",
      "\u001b[0;31mKeyboardInterrupt\u001b[0m                         Traceback (most recent call last)",
      "\u001b[0;32m<ipython-input-9-c761920b81b0>\u001b[0m in \u001b[0;36m<module>\u001b[0;34m()\u001b[0m\n\u001b[0;32m----> 1\u001b[0;31m \u001b[0;32mraise\u001b[0m \u001b[0mKeyboardInterrupt\u001b[0m\u001b[0;34m\u001b[0m\u001b[0m\n\u001b[0m",
      "\u001b[0;31mKeyboardInterrupt\u001b[0m: "
     ]
    }
   ],
   "source": [
    "raise KeyboardInterrupt"
   ]
  },
  {
   "cell_type": "markdown",
   "metadata": {},
   "source": [
    "### Limit Buy\n",
    "\n",
    "가상화폐를 사려면 가상화폐 종류와 원화 가격, 그리고 사려는 양을 명시해서 API를 부르면 됩니다."
   ]
  },
  {
   "cell_type": "code",
   "execution_count": 10,
   "metadata": {},
   "outputs": [
    {
     "data": {
      "text/html": [
       "<table style=\"table-layout: auto; width: 100%\"><thead><tr><th style=\"width: auto; white-space: nowrap\">Field</th><th style=\"width: 100%\">Value</th></tr></thead><tbody><tr><td><pre style=\"width: auto; white-space: nowrap\">result</pre></td><td><span onclick=\"$('input', this).show().val($('span', this).hide().text()).focus()[0].select(); document.execCommand('copy')\"><span>&#x27;success&#x27;</span><input style=\"text-align: right; display: none; border: none; width: 100%; background: transparent;\"></span></td></tr><tr><td><pre style=\"width: auto; white-space: nowrap\">errorCode</pre></td><td><span onclick=\"$('input', this).show().val($('span', this).hide().text()).focus()[0].select(); document.execCommand('copy')\"><span>&#x27;0&#x27;</span><input style=\"text-align: right; display: none; border: none; width: 100%; background: transparent;\"></span></td></tr><tr><td><pre style=\"width: auto; white-space: nowrap\">orderId</pre></td><td><span onclick=\"$('input', this).show().val($('span', this).hide().text()).focus()[0].select(); document.execCommand('copy')\"><span>&#x27;c2956e15-f0b8-45e8-ad14-3d90c765e414&#x27;</span><input style=\"text-align: right; display: none; border: none; width: 100%; background: transparent;\"></span></td></tr></tbody></table></div>"
      ],
      "text/plain": [
       "<coinone.api.common.order.OrderId at 0x105680da0>"
      ]
     },
     "execution_count": 10,
     "metadata": {},
     "output_type": "execute_result"
    }
   ],
   "source": [
    "v2.order.limit_buy(currency=Currency.BTC, price=1000, qty=0.001)"
   ]
  },
  {
   "cell_type": "markdown",
   "metadata": {},
   "source": [
    "음... 1 BTC를 1000 KRW 에 사려면 대강 언제쯤까지 거슬러올라가야 될까요... 뭐, 상관 없겠죠.\n",
    "\n",
    "위의 코드는 다음처럼 쓸 수도 있습니다."
   ]
  },
  {
   "cell_type": "code",
   "execution_count": 11,
   "metadata": {},
   "outputs": [
    {
     "data": {
      "text/html": [
       "<table style=\"table-layout: auto; width: 100%\"><thead><tr><th style=\"width: auto; white-space: nowrap\">Field</th><th style=\"width: 100%\">Value</th></tr></thead><tbody><tr><td><pre style=\"width: auto; white-space: nowrap\">result</pre></td><td><span onclick=\"$('input', this).show().val($('span', this).hide().text()).focus()[0].select(); document.execCommand('copy')\"><span>&#x27;success&#x27;</span><input style=\"text-align: right; display: none; border: none; width: 100%; background: transparent;\"></span></td></tr><tr><td><pre style=\"width: auto; white-space: nowrap\">errorCode</pre></td><td><span onclick=\"$('input', this).show().val($('span', this).hide().text()).focus()[0].select(); document.execCommand('copy')\"><span>&#x27;0&#x27;</span><input style=\"text-align: right; display: none; border: none; width: 100%; background: transparent;\"></span></td></tr><tr><td><pre style=\"width: auto; white-space: nowrap\">orderId</pre></td><td><span onclick=\"$('input', this).show().val($('span', this).hide().text()).focus()[0].select(); document.execCommand('copy')\"><span>&#x27;372f8b4c-ec05-435e-881f-308ed31a5109&#x27;</span><input style=\"text-align: right; display: none; border: none; width: 100%; background: transparent;\"></span></td></tr></tbody></table></div>"
      ],
      "text/plain": [
       "<coinone.api.common.order.OrderId at 0x10519c358>"
      ]
     },
     "execution_count": 11,
     "metadata": {},
     "output_type": "execute_result"
    }
   ],
   "source": [
    "v2.order[Currency.BTC].limit_buy(price=1000, qty=0.001)"
   ]
  },
  {
   "cell_type": "markdown",
   "metadata": {},
   "source": [
    "order API 객체의 기본 가상화폐 종류를 `[]`을 통해서 지정할 수 있습니다."
   ]
  },
  {
   "cell_type": "markdown",
   "metadata": {},
   "source": [
    "### Limit Sell\n",
    "\n",
    "파는 것도 그다지 새로울 건 없습니다."
   ]
  },
  {
   "cell_type": "code",
   "execution_count": 12,
   "metadata": {},
   "outputs": [
    {
     "data": {
      "text/html": [
       "<table style=\"table-layout: auto; width: 100%\"><thead><tr><th style=\"width: auto; white-space: nowrap\">Field</th><th style=\"width: 100%\">Value</th></tr></thead><tbody><tr><td><pre style=\"width: auto; white-space: nowrap\">result</pre></td><td><span onclick=\"$('input', this).show().val($('span', this).hide().text()).focus()[0].select(); document.execCommand('copy')\"><span>&#x27;success&#x27;</span><input style=\"text-align: right; display: none; border: none; width: 100%; background: transparent;\"></span></td></tr><tr><td><pre style=\"width: auto; white-space: nowrap\">errorCode</pre></td><td><span onclick=\"$('input', this).show().val($('span', this).hide().text()).focus()[0].select(); document.execCommand('copy')\"><span>&#x27;0&#x27;</span><input style=\"text-align: right; display: none; border: none; width: 100%; background: transparent;\"></span></td></tr><tr><td><pre style=\"width: auto; white-space: nowrap\">orderId</pre></td><td><span onclick=\"$('input', this).show().val($('span', this).hide().text()).focus()[0].select(); document.execCommand('copy')\"><span>&#x27;61a60139-b1f9-4b5d-be12-1abeb43da1bf&#x27;</span><input style=\"text-align: right; display: none; border: none; width: 100%; background: transparent;\"></span></td></tr></tbody></table></div>"
      ],
      "text/plain": [
       "<coinone.api.common.order.OrderId at 0x10562a710>"
      ]
     },
     "execution_count": 12,
     "metadata": {},
     "output_type": "execute_result"
    }
   ],
   "source": [
    "v2.order.limit_sell(currency=Currency.BTC, price=50_000_000, qty=0.001)"
   ]
  },
  {
   "cell_type": "markdown",
   "metadata": {},
   "source": [
    "꿈은 높게 가지는게 좋죠!"
   ]
  },
  {
   "cell_type": "markdown",
   "metadata": {},
   "source": [
    "### My Limit Orders\n",
    "\n",
    "이제 위에서 넣었던 주문들을 한번 확인해봅시다."
   ]
  },
  {
   "cell_type": "code",
   "execution_count": 13,
   "metadata": {},
   "outputs": [
    {
     "data": {
      "text/html": [
       "<table style=\"table-layout: auto; width: 100%\"><thead><tr><th style=\"width: auto; white-space: nowrap\">Field</th><th style=\"width: 100%\">Value</th></tr></thead><tbody><tr><td><pre style=\"width: auto; white-space: nowrap\">result</pre></td><td><span onclick=\"$('input', this).show().val($('span', this).hide().text()).focus()[0].select(); document.execCommand('copy')\"><span>&#x27;success&#x27;</span><input style=\"text-align: right; display: none; border: none; width: 100%; background: transparent;\"></span></td></tr><tr><td><pre style=\"width: auto; white-space: nowrap\">errorCode</pre></td><td><span onclick=\"$('input', this).show().val($('span', this).hide().text()).focus()[0].select(); document.execCommand('copy')\"><span>&#x27;0&#x27;</span><input style=\"text-align: right; display: none; border: none; width: 100%; background: transparent;\"></span></td></tr><tr><td><pre style=\"width: auto; white-space: nowrap\">limitOrders</pre></td><td><ul style=\"max-height: 20em; overflow-y: auto\"><li><table style=\"table-layout: auto; width: 100%\"><thead><tr><th style=\"width: auto; white-space: nowrap\">Field</th><th style=\"width: 100%\">Value</th></tr></thead><tbody><tr><td><pre style=\"width: auto; white-space: nowrap\">index</pre></td><td><span onclick=\"$('input', this).show().val($('span', this).hide().text()).focus()[0].select(); document.execCommand('copy')\"><span>0</span><input style=\"text-align: right; display: none; border: none; width: 100%; background: transparent;\"></span></td></tr><tr><td><pre style=\"width: auto; white-space: nowrap\">timestamp</pre></td><td><span onclick=\"$('input', this).show().val($('span', this).hide().text()).focus()[0].select(); document.execCommand('copy')\"><span>1512453098</span><input style=\"text-align: right; display: none; border: none; width: 100%; background: transparent;\"></span></td></tr><tr><td><pre style=\"width: auto; white-space: nowrap\">price</pre></td><td><span onclick=\"$('input', this).show().val($('span', this).hide().text()).focus()[0].select(); document.execCommand('copy')\"><span>50000000</span><input style=\"text-align: right; display: none; border: none; width: 100%; background: transparent;\"></span></td></tr><tr><td><pre style=\"width: auto; white-space: nowrap\">qty</pre></td><td><span onclick=\"$('input', this).show().val($('span', this).hide().text()).focus()[0].select(); document.execCommand('copy')\"><span>0.001</span><input style=\"text-align: right; display: none; border: none; width: 100%; background: transparent;\"></span></td></tr><tr><td><pre style=\"width: auto; white-space: nowrap\">orderId</pre></td><td><span onclick=\"$('input', this).show().val($('span', this).hide().text()).focus()[0].select(); document.execCommand('copy')\"><span>&#x27;61a60139-b1f9-4b5d-be12-1abeb43da1bf&#x27;</span><input style=\"text-align: right; display: none; border: none; width: 100%; background: transparent;\"></span></td></tr><tr><td><pre style=\"width: auto; white-space: nowrap\">type</pre></td><td><span onclick=\"$('input', this).show().val($('span', this).hide().text()).focus()[0].select(); document.execCommand('copy')\"><span>&#x27;ask&#x27;</span><input style=\"text-align: right; display: none; border: none; width: 100%; background: transparent;\"></span></td></tr><tr><td><pre style=\"width: auto; white-space: nowrap\">feeRate</pre></td><td><span onclick=\"$('input', this).show().val($('span', this).hide().text()).focus()[0].select(); document.execCommand('copy')\"><span>0.001</span><input style=\"text-align: right; display: none; border: none; width: 100%; background: transparent;\"></span></td></tr></tbody></table></div></li><li><table style=\"table-layout: auto; width: 100%\"><thead><tr><th style=\"width: auto; white-space: nowrap\">Field</th><th style=\"width: 100%\">Value</th></tr></thead><tbody><tr><td><pre style=\"width: auto; white-space: nowrap\">index</pre></td><td><span onclick=\"$('input', this).show().val($('span', this).hide().text()).focus()[0].select(); document.execCommand('copy')\"><span>0</span><input style=\"text-align: right; display: none; border: none; width: 100%; background: transparent;\"></span></td></tr><tr><td><pre style=\"width: auto; white-space: nowrap\">timestamp</pre></td><td><span onclick=\"$('input', this).show().val($('span', this).hide().text()).focus()[0].select(); document.execCommand('copy')\"><span>1512453094</span><input style=\"text-align: right; display: none; border: none; width: 100%; background: transparent;\"></span></td></tr><tr><td><pre style=\"width: auto; white-space: nowrap\">price</pre></td><td><span onclick=\"$('input', this).show().val($('span', this).hide().text()).focus()[0].select(); document.execCommand('copy')\"><span>1000</span><input style=\"text-align: right; display: none; border: none; width: 100%; background: transparent;\"></span></td></tr><tr><td><pre style=\"width: auto; white-space: nowrap\">qty</pre></td><td><span onclick=\"$('input', this).show().val($('span', this).hide().text()).focus()[0].select(); document.execCommand('copy')\"><span>0.001</span><input style=\"text-align: right; display: none; border: none; width: 100%; background: transparent;\"></span></td></tr><tr><td><pre style=\"width: auto; white-space: nowrap\">orderId</pre></td><td><span onclick=\"$('input', this).show().val($('span', this).hide().text()).focus()[0].select(); document.execCommand('copy')\"><span>&#x27;372f8b4c-ec05-435e-881f-308ed31a5109&#x27;</span><input style=\"text-align: right; display: none; border: none; width: 100%; background: transparent;\"></span></td></tr><tr><td><pre style=\"width: auto; white-space: nowrap\">type</pre></td><td><span onclick=\"$('input', this).show().val($('span', this).hide().text()).focus()[0].select(); document.execCommand('copy')\"><span>&#x27;bid&#x27;</span><input style=\"text-align: right; display: none; border: none; width: 100%; background: transparent;\"></span></td></tr><tr><td><pre style=\"width: auto; white-space: nowrap\">feeRate</pre></td><td><span onclick=\"$('input', this).show().val($('span', this).hide().text()).focus()[0].select(); document.execCommand('copy')\"><span>0.001</span><input style=\"text-align: right; display: none; border: none; width: 100%; background: transparent;\"></span></td></tr></tbody></table></div></li><li><table style=\"table-layout: auto; width: 100%\"><thead><tr><th style=\"width: auto; white-space: nowrap\">Field</th><th style=\"width: 100%\">Value</th></tr></thead><tbody><tr><td><pre style=\"width: auto; white-space: nowrap\">index</pre></td><td><span onclick=\"$('input', this).show().val($('span', this).hide().text()).focus()[0].select(); document.execCommand('copy')\"><span>1</span><input style=\"text-align: right; display: none; border: none; width: 100%; background: transparent;\"></span></td></tr><tr><td><pre style=\"width: auto; white-space: nowrap\">timestamp</pre></td><td><span onclick=\"$('input', this).show().val($('span', this).hide().text()).focus()[0].select(); document.execCommand('copy')\"><span>1512453092</span><input style=\"text-align: right; display: none; border: none; width: 100%; background: transparent;\"></span></td></tr><tr><td><pre style=\"width: auto; white-space: nowrap\">price</pre></td><td><span onclick=\"$('input', this).show().val($('span', this).hide().text()).focus()[0].select(); document.execCommand('copy')\"><span>1000</span><input style=\"text-align: right; display: none; border: none; width: 100%; background: transparent;\"></span></td></tr><tr><td><pre style=\"width: auto; white-space: nowrap\">qty</pre></td><td><span onclick=\"$('input', this).show().val($('span', this).hide().text()).focus()[0].select(); document.execCommand('copy')\"><span>0.001</span><input style=\"text-align: right; display: none; border: none; width: 100%; background: transparent;\"></span></td></tr><tr><td><pre style=\"width: auto; white-space: nowrap\">orderId</pre></td><td><span onclick=\"$('input', this).show().val($('span', this).hide().text()).focus()[0].select(); document.execCommand('copy')\"><span>&#x27;c2956e15-f0b8-45e8-ad14-3d90c765e414&#x27;</span><input style=\"text-align: right; display: none; border: none; width: 100%; background: transparent;\"></span></td></tr><tr><td><pre style=\"width: auto; white-space: nowrap\">type</pre></td><td><span onclick=\"$('input', this).show().val($('span', this).hide().text()).focus()[0].select(); document.execCommand('copy')\"><span>&#x27;bid&#x27;</span><input style=\"text-align: right; display: none; border: none; width: 100%; background: transparent;\"></span></td></tr><tr><td><pre style=\"width: auto; white-space: nowrap\">feeRate</pre></td><td><span onclick=\"$('input', this).show().val($('span', this).hide().text()).focus()[0].select(); document.execCommand('copy')\"><span>0.001</span><input style=\"text-align: right; display: none; border: none; width: 100%; background: transparent;\"></span></td></tr></tbody></table></div></li></ul></td></tr></tbody></table></div>"
      ],
      "text/plain": [
       "<coinone.api.common.order.LimitOrders at 0x10522fe48>"
      ]
     },
     "execution_count": 13,
     "metadata": {},
     "output_type": "execute_result"
    }
   ],
   "source": [
    "v2.order.limit_orders(currency=Currency.BTC)"
   ]
  },
  {
   "cell_type": "markdown",
   "metadata": {},
   "source": [
    "### Cancel Order\n",
    "\n",
    "이제 높은 꿈을 담았던 주문을 취소해볼까요?"
   ]
  },
  {
   "cell_type": "code",
   "execution_count": 14,
   "metadata": {},
   "outputs": [
    {
     "data": {
      "text/html": [
       "<table style=\"table-layout: auto; width: 100%\"><thead><tr><th style=\"width: auto; white-space: nowrap\">Field</th><th style=\"width: 100%\">Value</th></tr></thead><tbody><tr><td><pre style=\"width: auto; white-space: nowrap\">result</pre></td><td><span onclick=\"$('input', this).show().val($('span', this).hide().text()).focus()[0].select(); document.execCommand('copy')\"><span>&#x27;success&#x27;</span><input style=\"text-align: right; display: none; border: none; width: 100%; background: transparent;\"></span></td></tr><tr><td><pre style=\"width: auto; white-space: nowrap\">errorCode</pre></td><td><span onclick=\"$('input', this).show().val($('span', this).hide().text()).focus()[0].select(); document.execCommand('copy')\"><span>&#x27;0&#x27;</span><input style=\"text-align: right; display: none; border: none; width: 100%; background: transparent;\"></span></td></tr></tbody></table></div>"
      ],
      "text/plain": [
       "<coinone.api.base.ApiResult at 0x10522fb70>"
      ]
     },
     "execution_count": 14,
     "metadata": {},
     "output_type": "execute_result"
    }
   ],
   "source": [
    "v2.order.cancel(order_id='372f8b4c-ec05-435e-881f-308ed31a5109', price=1000, qty=0.001, is_ask=OrderType.Bid)"
   ]
  },
  {
   "cell_type": "markdown",
   "metadata": {},
   "source": [
    "`order_id`에는 `limit_orders()`나 `limit_buy()`/`limit_sell()`에서 얻은 `orderId` 값을 넣고, `price`는 그 거래에서 썼던 `price`값을 똑같이 써 넣습니다.\n",
    "\n",
    "물론 양을 나눠서 일부만 취소할 수도 있습니다."
   ]
  },
  {
   "cell_type": "code",
   "execution_count": 15,
   "metadata": {},
   "outputs": [
    {
     "data": {
      "text/html": [
       "<table style=\"table-layout: auto; width: 100%\"><thead><tr><th style=\"width: auto; white-space: nowrap\">Field</th><th style=\"width: 100%\">Value</th></tr></thead><tbody><tr><td><pre style=\"width: auto; white-space: nowrap\">result</pre></td><td><span onclick=\"$('input', this).show().val($('span', this).hide().text()).focus()[0].select(); document.execCommand('copy')\"><span>&#x27;success&#x27;</span><input style=\"text-align: right; display: none; border: none; width: 100%; background: transparent;\"></span></td></tr><tr><td><pre style=\"width: auto; white-space: nowrap\">errorCode</pre></td><td><span onclick=\"$('input', this).show().val($('span', this).hide().text()).focus()[0].select(); document.execCommand('copy')\"><span>&#x27;0&#x27;</span><input style=\"text-align: right; display: none; border: none; width: 100%; background: transparent;\"></span></td></tr><tr><td><pre style=\"width: auto; white-space: nowrap\">limitOrders</pre></td><td><ul style=\"max-height: 20em; overflow-y: auto\"><li><table style=\"table-layout: auto; width: 100%\"><thead><tr><th style=\"width: auto; white-space: nowrap\">Field</th><th style=\"width: 100%\">Value</th></tr></thead><tbody><tr><td><pre style=\"width: auto; white-space: nowrap\">index</pre></td><td><span onclick=\"$('input', this).show().val($('span', this).hide().text()).focus()[0].select(); document.execCommand('copy')\"><span>0</span><input style=\"text-align: right; display: none; border: none; width: 100%; background: transparent;\"></span></td></tr><tr><td><pre style=\"width: auto; white-space: nowrap\">timestamp</pre></td><td><span onclick=\"$('input', this).show().val($('span', this).hide().text()).focus()[0].select(); document.execCommand('copy')\"><span>1512453098</span><input style=\"text-align: right; display: none; border: none; width: 100%; background: transparent;\"></span></td></tr><tr><td><pre style=\"width: auto; white-space: nowrap\">price</pre></td><td><span onclick=\"$('input', this).show().val($('span', this).hide().text()).focus()[0].select(); document.execCommand('copy')\"><span>50000000</span><input style=\"text-align: right; display: none; border: none; width: 100%; background: transparent;\"></span></td></tr><tr><td><pre style=\"width: auto; white-space: nowrap\">qty</pre></td><td><span onclick=\"$('input', this).show().val($('span', this).hide().text()).focus()[0].select(); document.execCommand('copy')\"><span>0.001</span><input style=\"text-align: right; display: none; border: none; width: 100%; background: transparent;\"></span></td></tr><tr><td><pre style=\"width: auto; white-space: nowrap\">orderId</pre></td><td><span onclick=\"$('input', this).show().val($('span', this).hide().text()).focus()[0].select(); document.execCommand('copy')\"><span>&#x27;61a60139-b1f9-4b5d-be12-1abeb43da1bf&#x27;</span><input style=\"text-align: right; display: none; border: none; width: 100%; background: transparent;\"></span></td></tr><tr><td><pre style=\"width: auto; white-space: nowrap\">type</pre></td><td><span onclick=\"$('input', this).show().val($('span', this).hide().text()).focus()[0].select(); document.execCommand('copy')\"><span>&#x27;ask&#x27;</span><input style=\"text-align: right; display: none; border: none; width: 100%; background: transparent;\"></span></td></tr><tr><td><pre style=\"width: auto; white-space: nowrap\">feeRate</pre></td><td><span onclick=\"$('input', this).show().val($('span', this).hide().text()).focus()[0].select(); document.execCommand('copy')\"><span>0.001</span><input style=\"text-align: right; display: none; border: none; width: 100%; background: transparent;\"></span></td></tr></tbody></table></div></li><li><table style=\"table-layout: auto; width: 100%\"><thead><tr><th style=\"width: auto; white-space: nowrap\">Field</th><th style=\"width: 100%\">Value</th></tr></thead><tbody><tr><td><pre style=\"width: auto; white-space: nowrap\">index</pre></td><td><span onclick=\"$('input', this).show().val($('span', this).hide().text()).focus()[0].select(); document.execCommand('copy')\"><span>0</span><input style=\"text-align: right; display: none; border: none; width: 100%; background: transparent;\"></span></td></tr><tr><td><pre style=\"width: auto; white-space: nowrap\">timestamp</pre></td><td><span onclick=\"$('input', this).show().val($('span', this).hide().text()).focus()[0].select(); document.execCommand('copy')\"><span>1512453092</span><input style=\"text-align: right; display: none; border: none; width: 100%; background: transparent;\"></span></td></tr><tr><td><pre style=\"width: auto; white-space: nowrap\">price</pre></td><td><span onclick=\"$('input', this).show().val($('span', this).hide().text()).focus()[0].select(); document.execCommand('copy')\"><span>1000</span><input style=\"text-align: right; display: none; border: none; width: 100%; background: transparent;\"></span></td></tr><tr><td><pre style=\"width: auto; white-space: nowrap\">qty</pre></td><td><span onclick=\"$('input', this).show().val($('span', this).hide().text()).focus()[0].select(); document.execCommand('copy')\"><span>0.0002</span><input style=\"text-align: right; display: none; border: none; width: 100%; background: transparent;\"></span></td></tr><tr><td><pre style=\"width: auto; white-space: nowrap\">orderId</pre></td><td><span onclick=\"$('input', this).show().val($('span', this).hide().text()).focus()[0].select(); document.execCommand('copy')\"><span>&#x27;c2956e15-f0b8-45e8-ad14-3d90c765e414&#x27;</span><input style=\"text-align: right; display: none; border: none; width: 100%; background: transparent;\"></span></td></tr><tr><td><pre style=\"width: auto; white-space: nowrap\">type</pre></td><td><span onclick=\"$('input', this).show().val($('span', this).hide().text()).focus()[0].select(); document.execCommand('copy')\"><span>&#x27;bid&#x27;</span><input style=\"text-align: right; display: none; border: none; width: 100%; background: transparent;\"></span></td></tr><tr><td><pre style=\"width: auto; white-space: nowrap\">feeRate</pre></td><td><span onclick=\"$('input', this).show().val($('span', this).hide().text()).focus()[0].select(); document.execCommand('copy')\"><span>0.001</span><input style=\"text-align: right; display: none; border: none; width: 100%; background: transparent;\"></span></td></tr></tbody></table></div></li></ul></td></tr></tbody></table></div>"
      ],
      "text/plain": [
       "<coinone.api.common.order.LimitOrders at 0x1060fa978>"
      ]
     },
     "execution_count": 15,
     "metadata": {},
     "output_type": "execute_result"
    }
   ],
   "source": [
    "v2.order.cancel(order_id='c2956e15-f0b8-45e8-ad14-3d90c765e414', price=1000, qty=0.0005, is_ask=OrderType.Bid)\n",
    "v2.order.cancel(order_id='c2956e15-f0b8-45e8-ad14-3d90c765e414', price=1000, qty=0.0003, is_ask=OrderType.Bid)\n",
    "v2.order.limit_orders(currency=Currency.BTC)"
   ]
  },
  {
   "cell_type": "markdown",
   "metadata": {},
   "source": [
    "남은 주문을 일괄적으로 취소하려면, `python`의 도움이 조금 필요합니다."
   ]
  },
  {
   "cell_type": "code",
   "execution_count": 16,
   "metadata": {},
   "outputs": [],
   "source": [
    "for order in v2.order.limit_orders(currency=Currency.BTC).limitOrders:\n",
    "    v2.order.cancel(order_id=order.orderId, price=order.price, qty=order.qty,\n",
    "                    is_ask=OrderType.Bid if order.type == 'bid' else OrderType.Ask)"
   ]
  },
  {
   "cell_type": "markdown",
   "metadata": {},
   "source": [
    "### My Complete Orders\n",
    "\n",
    "우리의 희로애락이 담긴 완료된 거래 내역도 한번 조회해 봅시다."
   ]
  },
  {
   "cell_type": "code",
   "execution_count": 17,
   "metadata": {},
   "outputs": [
    {
     "data": {
      "text/html": [
       "<table style=\"table-layout: auto; width: 100%\"><thead><tr><th style=\"width: auto; white-space: nowrap\">Field</th><th style=\"width: 100%\">Value</th></tr></thead><tbody><tr><td><pre style=\"width: auto; white-space: nowrap\">result</pre></td><td><span onclick=\"$('input', this).show().val($('span', this).hide().text()).focus()[0].select(); document.execCommand('copy')\"><span>&#x27;success&#x27;</span><input style=\"text-align: right; display: none; border: none; width: 100%; background: transparent;\"></span></td></tr><tr><td><pre style=\"width: auto; white-space: nowrap\">errorCode</pre></td><td><span onclick=\"$('input', this).show().val($('span', this).hide().text()).focus()[0].select(); document.execCommand('copy')\"><span>&#x27;0&#x27;</span><input style=\"text-align: right; display: none; border: none; width: 100%; background: transparent;\"></span></td></tr><tr><td><pre style=\"width: auto; white-space: nowrap\">completeOrders</pre></td><td><ul style=\"max-height: 20em; overflow-y: auto\"><li><table style=\"table-layout: auto; width: 100%\"><thead><tr><th style=\"width: auto; white-space: nowrap\">Field</th><th style=\"width: 100%\">Value</th></tr></thead><tbody><tr><td><pre style=\"width: auto; white-space: nowrap\">timestamp</pre></td><td><span onclick=\"$('input', this).show().val($('span', this).hide().text()).focus()[0].select(); document.execCommand('copy')\"><span>1512303670</span><input style=\"text-align: right; display: none; border: none; width: 100%; background: transparent;\"></span></td></tr><tr><td><pre style=\"width: auto; white-space: nowrap\">price</pre></td><td><span onclick=\"$('input', this).show().val($('span', this).hide().text()).focus()[0].select(); document.execCommand('copy')\"><span>13179500</span><input style=\"text-align: right; display: none; border: none; width: 100%; background: transparent;\"></span></td></tr><tr><td><pre style=\"width: auto; white-space: nowrap\">qty</pre></td><td><span onclick=\"$('input', this).show().val($('span', this).hide().text()).focus()[0].select(); document.execCommand('copy')\"><span>0.001</span><input style=\"text-align: right; display: none; border: none; width: 100%; background: transparent;\"></span></td></tr><tr><td><pre style=\"width: auto; white-space: nowrap\">type</pre></td><td><span onclick=\"$('input', this).show().val($('span', this).hide().text()).focus()[0].select(); document.execCommand('copy')\"><span>&#x27;bid&#x27;</span><input style=\"text-align: right; display: none; border: none; width: 100%; background: transparent;\"></span></td></tr><tr><td><pre style=\"width: auto; white-space: nowrap\">feeRate</pre></td><td><span onclick=\"$('input', this).show().val($('span', this).hide().text()).focus()[0].select(); document.execCommand('copy')\"><span>0.001</span><input style=\"text-align: right; display: none; border: none; width: 100%; background: transparent;\"></span></td></tr><tr><td><pre style=\"width: auto; white-space: nowrap\">fee</pre></td><td><span onclick=\"$('input', this).show().val($('span', this).hide().text()).focus()[0].select(); document.execCommand('copy')\"><span>1e-06</span><input style=\"text-align: right; display: none; border: none; width: 100%; background: transparent;\"></span></td></tr><tr><td><pre style=\"width: auto; white-space: nowrap\">orderId</pre></td><td><span onclick=\"$('input', this).show().val($('span', this).hide().text()).focus()[0].select(); document.execCommand('copy')\"><span>&#x27;BDE6D09A-DD68-4579-B2B0-C7A03593F735&#x27;</span><input style=\"text-align: right; display: none; border: none; width: 100%; background: transparent;\"></span></td></tr></tbody></table></div></li><li>&hellip;</li></ul></td></tr></tbody></table></div>"
      ],
      "text/plain": [
       "<coinone.api.common.order.CompleteOrders at 0x105693d68>"
      ]
     },
     "execution_count": 17,
     "metadata": {},
     "output_type": "execute_result"
    }
   ],
   "source": [
    "v2.order.complete_orders(currency=Currency.BTC)"
   ]
  },
  {
   "cell_type": "markdown",
   "metadata": {},
   "source": [
    "## Public"
   ]
  },
  {
   "cell_type": "markdown",
   "metadata": {},
   "source": [
    "### Orderbook\n",
    "\n",
    "지금 핫한 거래들은 뭐가 있는지 한번 봅시다."
   ]
  },
  {
   "cell_type": "code",
   "execution_count": 18,
   "metadata": {
    "scrolled": false
   },
   "outputs": [
    {
     "data": {
      "text/html": [
       "<table style=\"table-layout: auto; width: 100%\"><thead><tr><th style=\"width: auto; white-space: nowrap\">Field</th><th style=\"width: 100%\">Value</th></tr></thead><tbody><tr><td><pre style=\"width: auto; white-space: nowrap\">result</pre></td><td><span onclick=\"$('input', this).show().val($('span', this).hide().text()).focus()[0].select(); document.execCommand('copy')\"><span>&#x27;success&#x27;</span><input style=\"text-align: right; display: none; border: none; width: 100%; background: transparent;\"></span></td></tr><tr><td><pre style=\"width: auto; white-space: nowrap\">errorCode</pre></td><td><span onclick=\"$('input', this).show().val($('span', this).hide().text()).focus()[0].select(); document.execCommand('copy')\"><span>&#x27;0&#x27;</span><input style=\"text-align: right; display: none; border: none; width: 100%; background: transparent;\"></span></td></tr><tr><td><pre style=\"width: auto; white-space: nowrap\">ask</pre></td><td><ul style=\"max-height: 20em; overflow-y: auto\"><li><table style=\"table-layout: auto; width: 100%\"><thead><tr><th style=\"width: auto; white-space: nowrap\">Field</th><th style=\"width: 100%\">Value</th></tr></thead><tbody><tr><td><pre style=\"width: auto; white-space: nowrap\">price</pre></td><td><span onclick=\"$('input', this).show().val($('span', this).hide().text()).focus()[0].select(); document.execCommand('copy')\"><span>13933000</span><input style=\"text-align: right; display: none; border: none; width: 100%; background: transparent;\"></span></td></tr><tr><td><pre style=\"width: auto; white-space: nowrap\">qty</pre></td><td><span onclick=\"$('input', this).show().val($('span', this).hide().text()).focus()[0].select(); document.execCommand('copy')\"><span>0.5241</span><input style=\"text-align: right; display: none; border: none; width: 100%; background: transparent;\"></span></td></tr></tbody></table></div></li><li>&hellip;</li></ul></td></tr><tr><td><pre style=\"width: auto; white-space: nowrap\">bid</pre></td><td><ul style=\"max-height: 20em; overflow-y: auto\"><li><table style=\"table-layout: auto; width: 100%\"><thead><tr><th style=\"width: auto; white-space: nowrap\">Field</th><th style=\"width: 100%\">Value</th></tr></thead><tbody><tr><td><pre style=\"width: auto; white-space: nowrap\">price</pre></td><td><span onclick=\"$('input', this).show().val($('span', this).hide().text()).focus()[0].select(); document.execCommand('copy')\"><span>13930000</span><input style=\"text-align: right; display: none; border: none; width: 100%; background: transparent;\"></span></td></tr><tr><td><pre style=\"width: auto; white-space: nowrap\">qty</pre></td><td><span onclick=\"$('input', this).show().val($('span', this).hide().text()).focus()[0].select(); document.execCommand('copy')\"><span>0.92</span><input style=\"text-align: right; display: none; border: none; width: 100%; background: transparent;\"></span></td></tr></tbody></table></div></li><li>&hellip;</li></ul></td></tr><tr><td><pre style=\"width: auto; white-space: nowrap\">timestamp</pre></td><td><span onclick=\"$('input', this).show().val($('span', this).hide().text()).focus()[0].select(); document.execCommand('copy')\"><span>1512453196</span><input style=\"text-align: right; display: none; border: none; width: 100%; background: transparent;\"></span></td></tr><tr><td><pre style=\"width: auto; white-space: nowrap\">currency</pre></td><td><span onclick=\"$('input', this).show().val($('span', this).hide().text()).focus()[0].select(); document.execCommand('copy')\"><span>&#x27;btc&#x27;</span><input style=\"text-align: right; display: none; border: none; width: 100%; background: transparent;\"></span></td></tr></tbody></table></div>"
      ],
      "text/plain": [
       "<coinone.api.common.public.Orderbook at 0x105693d30>"
      ]
     },
     "execution_count": 18,
     "metadata": {},
     "output_type": "execute_result"
    }
   ],
   "source": [
    "v2.orderbook(currency=Currency.BTC)"
   ]
  },
  {
   "cell_type": "markdown",
   "metadata": {},
   "source": [
    "### Recent Complete Orders\n",
    "\n",
    "우리가 API질을 하는 동안 가상화폐들이 어떻게 팔려나갔나 한번 볼까요?"
   ]
  },
  {
   "cell_type": "code",
   "execution_count": 19,
   "metadata": {},
   "outputs": [
    {
     "data": {
      "text/html": [
       "<table style=\"table-layout: auto; width: 100%\"><thead><tr><th style=\"width: auto; white-space: nowrap\">Field</th><th style=\"width: 100%\">Value</th></tr></thead><tbody><tr><td><pre style=\"width: auto; white-space: nowrap\">result</pre></td><td><span onclick=\"$('input', this).show().val($('span', this).hide().text()).focus()[0].select(); document.execCommand('copy')\"><span>&#x27;success&#x27;</span><input style=\"text-align: right; display: none; border: none; width: 100%; background: transparent;\"></span></td></tr><tr><td><pre style=\"width: auto; white-space: nowrap\">errorCode</pre></td><td><span onclick=\"$('input', this).show().val($('span', this).hide().text()).focus()[0].select(); document.execCommand('copy')\"><span>&#x27;0&#x27;</span><input style=\"text-align: right; display: none; border: none; width: 100%; background: transparent;\"></span></td></tr><tr><td><pre style=\"width: auto; white-space: nowrap\">timestamp</pre></td><td><span onclick=\"$('input', this).show().val($('span', this).hide().text()).focus()[0].select(); document.execCommand('copy')\"><span>1512453196</span><input style=\"text-align: right; display: none; border: none; width: 100%; background: transparent;\"></span></td></tr><tr><td><pre style=\"width: auto; white-space: nowrap\">completeOrders</pre></td><td><ul style=\"max-height: 20em; overflow-y: auto\"><li><table style=\"table-layout: auto; width: 100%\"><thead><tr><th style=\"width: auto; white-space: nowrap\">Field</th><th style=\"width: 100%\">Value</th></tr></thead><tbody><tr><td><pre style=\"width: auto; white-space: nowrap\">price</pre></td><td><span onclick=\"$('input', this).show().val($('span', this).hide().text()).focus()[0].select(); document.execCommand('copy')\"><span>13835000</span><input style=\"text-align: right; display: none; border: none; width: 100%; background: transparent;\"></span></td></tr><tr><td><pre style=\"width: auto; white-space: nowrap\">qty</pre></td><td><span onclick=\"$('input', this).show().val($('span', this).hide().text()).focus()[0].select(); document.execCommand('copy')\"><span>0.0146</span><input style=\"text-align: right; display: none; border: none; width: 100%; background: transparent;\"></span></td></tr><tr><td><pre style=\"width: auto; white-space: nowrap\">timestamp</pre></td><td><span onclick=\"$('input', this).show().val($('span', this).hide().text()).focus()[0].select(); document.execCommand('copy')\"><span>1512449590</span><input style=\"text-align: right; display: none; border: none; width: 100%; background: transparent;\"></span></td></tr></tbody></table></div></li><li>&hellip;</li></ul></td></tr><tr><td><pre style=\"width: auto; white-space: nowrap\">currency</pre></td><td><span onclick=\"$('input', this).show().val($('span', this).hide().text()).focus()[0].select(); document.execCommand('copy')\"><span>&#x27;btc&#x27;</span><input style=\"text-align: right; display: none; border: none; width: 100%; background: transparent;\"></span></td></tr></tbody></table></div>"
      ],
      "text/plain": [
       "<coinone.api.common.public.Trades at 0x1060fabe0>"
      ]
     },
     "execution_count": 19,
     "metadata": {},
     "output_type": "execute_result"
    }
   ],
   "source": [
    "v2.trades(currency=Currency.BTC)"
   ]
  },
  {
   "cell_type": "markdown",
   "metadata": {},
   "source": [
    "### Ticker\n",
    "\n",
    "시세를 확인하는 것도 거래의 기본이죠."
   ]
  },
  {
   "cell_type": "code",
   "execution_count": 20,
   "metadata": {},
   "outputs": [
    {
     "data": {
      "text/html": [
       "<table style=\"table-layout: auto; width: 100%\"><thead><tr><th style=\"width: auto; white-space: nowrap\">Field</th><th style=\"width: 100%\">Value</th></tr></thead><tbody><tr><td><pre style=\"width: auto; white-space: nowrap\">high</pre></td><td><span onclick=\"$('input', this).show().val($('span', this).hide().text()).focus()[0].select(); document.execCommand('copy')\"><span>14035000</span><input style=\"text-align: right; display: none; border: none; width: 100%; background: transparent;\"></span></td></tr><tr><td><pre style=\"width: auto; white-space: nowrap\">low</pre></td><td><span onclick=\"$('input', this).show().val($('span', this).hide().text()).focus()[0].select(); document.execCommand('copy')\"><span>13151000</span><input style=\"text-align: right; display: none; border: none; width: 100%; background: transparent;\"></span></td></tr><tr><td><pre style=\"width: auto; white-space: nowrap\">last</pre></td><td><span onclick=\"$('input', this).show().val($('span', this).hide().text()).focus()[0].select(); document.execCommand('copy')\"><span>13933000</span><input style=\"text-align: right; display: none; border: none; width: 100%; background: transparent;\"></span></td></tr><tr><td><pre style=\"width: auto; white-space: nowrap\">first</pre></td><td><span onclick=\"$('input', this).show().val($('span', this).hide().text()).focus()[0].select(); document.execCommand('copy')\"><span>13455000</span><input style=\"text-align: right; display: none; border: none; width: 100%; background: transparent;\"></span></td></tr><tr><td><pre style=\"width: auto; white-space: nowrap\">volume</pre></td><td><span onclick=\"$('input', this).show().val($('span', this).hide().text()).focus()[0].select(); document.execCommand('copy')\"><span>6913.1641</span><input style=\"text-align: right; display: none; border: none; width: 100%; background: transparent;\"></span></td></tr><tr><td><pre style=\"width: auto; white-space: nowrap\">yesterday_high</pre></td><td><span onclick=\"$('input', this).show().val($('span', this).hide().text()).focus()[0].select(); document.execCommand('copy')\"><span>13546000</span><input style=\"text-align: right; display: none; border: none; width: 100%; background: transparent;\"></span></td></tr><tr><td><pre style=\"width: auto; white-space: nowrap\">yesterday_low</pre></td><td><span onclick=\"$('input', this).show().val($('span', this).hide().text()).focus()[0].select(); document.execCommand('copy')\"><span>12780000</span><input style=\"text-align: right; display: none; border: none; width: 100%; background: transparent;\"></span></td></tr><tr><td><pre style=\"width: auto; white-space: nowrap\">yesterday_last</pre></td><td><span onclick=\"$('input', this).show().val($('span', this).hide().text()).focus()[0].select(); document.execCommand('copy')\"><span>13387500</span><input style=\"text-align: right; display: none; border: none; width: 100%; background: transparent;\"></span></td></tr><tr><td><pre style=\"width: auto; white-space: nowrap\">yesterday_first</pre></td><td><span onclick=\"$('input', this).show().val($('span', this).hide().text()).focus()[0].select(); document.execCommand('copy')\"><span>13305500</span><input style=\"text-align: right; display: none; border: none; width: 100%; background: transparent;\"></span></td></tr><tr><td><pre style=\"width: auto; white-space: nowrap\">yesterday_volume</pre></td><td><span onclick=\"$('input', this).show().val($('span', this).hide().text()).focus()[0].select(); document.execCommand('copy')\"><span>7784.7351</span><input style=\"text-align: right; display: none; border: none; width: 100%; background: transparent;\"></span></td></tr><tr><td><pre style=\"width: auto; white-space: nowrap\">currency</pre></td><td><span onclick=\"$('input', this).show().val($('span', this).hide().text()).focus()[0].select(); document.execCommand('copy')\"><span>&#x27;btc&#x27;</span><input style=\"text-align: right; display: none; border: none; width: 100%; background: transparent;\"></span></td></tr><tr><td><pre style=\"width: auto; white-space: nowrap\">result</pre></td><td><span onclick=\"$('input', this).show().val($('span', this).hide().text()).focus()[0].select(); document.execCommand('copy')\"><span>&#x27;success&#x27;</span><input style=\"text-align: right; display: none; border: none; width: 100%; background: transparent;\"></span></td></tr><tr><td><pre style=\"width: auto; white-space: nowrap\">errorCode</pre></td><td><span onclick=\"$('input', this).show().val($('span', this).hide().text()).focus()[0].select(); document.execCommand('copy')\"><span>&#x27;0&#x27;</span><input style=\"text-align: right; display: none; border: none; width: 100%; background: transparent;\"></span></td></tr><tr><td><pre style=\"width: auto; white-space: nowrap\">timestamp</pre></td><td><span onclick=\"$('input', this).show().val($('span', this).hide().text()).focus()[0].select(); document.execCommand('copy')\"><span>1512453196</span><input style=\"text-align: right; display: none; border: none; width: 100%; background: transparent;\"></span></td></tr></tbody></table></div>"
      ],
      "text/plain": [
       "<coinone.api.common.public.Ticker at 0x106121c50>"
      ]
     },
     "execution_count": 20,
     "metadata": {},
     "output_type": "execute_result"
    }
   ],
   "source": [
    "v2.ticker(currency=Currency.BTC)"
   ]
  },
  {
   "cell_type": "code",
   "execution_count": 21,
   "metadata": {},
   "outputs": [
    {
     "data": {
      "text/html": [
       "<table style=\"table-layout: auto; width: 100%\"><thead><tr><th style=\"width: auto; white-space: nowrap\">Field</th><th style=\"width: 100%\">Value</th></tr></thead><tbody><tr><td><pre style=\"width: auto; white-space: nowrap\">result</pre></td><td><span onclick=\"$('input', this).show().val($('span', this).hide().text()).focus()[0].select(); document.execCommand('copy')\"><span>&#x27;success&#x27;</span><input style=\"text-align: right; display: none; border: none; width: 100%; background: transparent;\"></span></td></tr><tr><td><pre style=\"width: auto; white-space: nowrap\">errorCode</pre></td><td><span onclick=\"$('input', this).show().val($('span', this).hide().text()).focus()[0].select(); document.execCommand('copy')\"><span>&#x27;0&#x27;</span><input style=\"text-align: right; display: none; border: none; width: 100%; background: transparent;\"></span></td></tr><tr><td><pre style=\"width: auto; white-space: nowrap\">btc</pre></td><td><table style=\"table-layout: auto; width: 100%\"><thead><tr><th style=\"width: auto; white-space: nowrap\">Field</th><th style=\"width: 100%\">Value</th></tr></thead><tbody><tr><td><pre style=\"width: auto; white-space: nowrap\">high</pre></td><td><span onclick=\"$('input', this).show().val($('span', this).hide().text()).focus()[0].select(); document.execCommand('copy')\"><span>14035000</span><input style=\"text-align: right; display: none; border: none; width: 100%; background: transparent;\"></span></td></tr><tr><td><pre style=\"width: auto; white-space: nowrap\">low</pre></td><td><span onclick=\"$('input', this).show().val($('span', this).hide().text()).focus()[0].select(); document.execCommand('copy')\"><span>13151000</span><input style=\"text-align: right; display: none; border: none; width: 100%; background: transparent;\"></span></td></tr><tr><td><pre style=\"width: auto; white-space: nowrap\">last</pre></td><td><span onclick=\"$('input', this).show().val($('span', this).hide().text()).focus()[0].select(); document.execCommand('copy')\"><span>13933000</span><input style=\"text-align: right; display: none; border: none; width: 100%; background: transparent;\"></span></td></tr><tr><td><pre style=\"width: auto; white-space: nowrap\">first</pre></td><td><span onclick=\"$('input', this).show().val($('span', this).hide().text()).focus()[0].select(); document.execCommand('copy')\"><span>13455000</span><input style=\"text-align: right; display: none; border: none; width: 100%; background: transparent;\"></span></td></tr><tr><td><pre style=\"width: auto; white-space: nowrap\">volume</pre></td><td><span onclick=\"$('input', this).show().val($('span', this).hide().text()).focus()[0].select(); document.execCommand('copy')\"><span>6913.1641</span><input style=\"text-align: right; display: none; border: none; width: 100%; background: transparent;\"></span></td></tr><tr><td><pre style=\"width: auto; white-space: nowrap\">yesterday_high</pre></td><td><span onclick=\"$('input', this).show().val($('span', this).hide().text()).focus()[0].select(); document.execCommand('copy')\"><span>13546000</span><input style=\"text-align: right; display: none; border: none; width: 100%; background: transparent;\"></span></td></tr><tr><td><pre style=\"width: auto; white-space: nowrap\">yesterday_low</pre></td><td><span onclick=\"$('input', this).show().val($('span', this).hide().text()).focus()[0].select(); document.execCommand('copy')\"><span>12780000</span><input style=\"text-align: right; display: none; border: none; width: 100%; background: transparent;\"></span></td></tr><tr><td><pre style=\"width: auto; white-space: nowrap\">yesterday_last</pre></td><td><span onclick=\"$('input', this).show().val($('span', this).hide().text()).focus()[0].select(); document.execCommand('copy')\"><span>13387500</span><input style=\"text-align: right; display: none; border: none; width: 100%; background: transparent;\"></span></td></tr><tr><td><pre style=\"width: auto; white-space: nowrap\">yesterday_first</pre></td><td><span onclick=\"$('input', this).show().val($('span', this).hide().text()).focus()[0].select(); document.execCommand('copy')\"><span>13305500</span><input style=\"text-align: right; display: none; border: none; width: 100%; background: transparent;\"></span></td></tr><tr><td><pre style=\"width: auto; white-space: nowrap\">yesterday_volume</pre></td><td><span onclick=\"$('input', this).show().val($('span', this).hide().text()).focus()[0].select(); document.execCommand('copy')\"><span>7784.7351</span><input style=\"text-align: right; display: none; border: none; width: 100%; background: transparent;\"></span></td></tr><tr><td><pre style=\"width: auto; white-space: nowrap\">currency</pre></td><td><span onclick=\"$('input', this).show().val($('span', this).hide().text()).focus()[0].select(); document.execCommand('copy')\"><span>&#x27;btc&#x27;</span><input style=\"text-align: right; display: none; border: none; width: 100%; background: transparent;\"></span></td></tr></tbody></table></div></td></tr><tr><td><pre style=\"width: auto; white-space: nowrap\">bch</pre></td><td><table style=\"table-layout: auto; width: 100%\"><thead><tr><th style=\"width: auto; white-space: nowrap\">Field</th><th style=\"width: 100%\">Value</th></tr></thead><tbody><tr><td><pre style=\"width: auto; white-space: nowrap\">high</pre></td><td><span onclick=\"$('input', this).show().val($('span', this).hide().text()).focus()[0].select(); document.execCommand('copy')\"><span>1821900</span><input style=\"text-align: right; display: none; border: none; width: 100%; background: transparent;\"></span></td></tr><tr><td><pre style=\"width: auto; white-space: nowrap\">low</pre></td><td><span onclick=\"$('input', this).show().val($('span', this).hide().text()).focus()[0].select(); document.execCommand('copy')\"><span>1743700</span><input style=\"text-align: right; display: none; border: none; width: 100%; background: transparent;\"></span></td></tr><tr><td><pre style=\"width: auto; white-space: nowrap\">last</pre></td><td><span onclick=\"$('input', this).show().val($('span', this).hide().text()).focus()[0].select(); document.execCommand('copy')\"><span>1797100</span><input style=\"text-align: right; display: none; border: none; width: 100%; background: transparent;\"></span></td></tr><tr><td><pre style=\"width: auto; white-space: nowrap\">first</pre></td><td><span onclick=\"$('input', this).show().val($('span', this).hide().text()).focus()[0].select(); document.execCommand('copy')\"><span>1790100</span><input style=\"text-align: right; display: none; border: none; width: 100%; background: transparent;\"></span></td></tr><tr><td><pre style=\"width: auto; white-space: nowrap\">volume</pre></td><td><span onclick=\"$('input', this).show().val($('span', this).hide().text()).focus()[0].select(); document.execCommand('copy')\"><span>21254.5614</span><input style=\"text-align: right; display: none; border: none; width: 100%; background: transparent;\"></span></td></tr><tr><td><pre style=\"width: auto; white-space: nowrap\">yesterday_high</pre></td><td><span onclick=\"$('input', this).show().val($('span', this).hide().text()).focus()[0].select(); document.execCommand('copy')\"><span>1838000</span><input style=\"text-align: right; display: none; border: none; width: 100%; background: transparent;\"></span></td></tr><tr><td><pre style=\"width: auto; white-space: nowrap\">yesterday_low</pre></td><td><span onclick=\"$('input', this).show().val($('span', this).hide().text()).focus()[0].select(); document.execCommand('copy')\"><span>1742000</span><input style=\"text-align: right; display: none; border: none; width: 100%; background: transparent;\"></span></td></tr><tr><td><pre style=\"width: auto; white-space: nowrap\">yesterday_last</pre></td><td><span onclick=\"$('input', this).show().val($('span', this).hide().text()).focus()[0].select(); document.execCommand('copy')\"><span>1771800</span><input style=\"text-align: right; display: none; border: none; width: 100%; background: transparent;\"></span></td></tr><tr><td><pre style=\"width: auto; white-space: nowrap\">yesterday_first</pre></td><td><span onclick=\"$('input', this).show().val($('span', this).hide().text()).focus()[0].select(); document.execCommand('copy')\"><span>1804000</span><input style=\"text-align: right; display: none; border: none; width: 100%; background: transparent;\"></span></td></tr><tr><td><pre style=\"width: auto; white-space: nowrap\">yesterday_volume</pre></td><td><span onclick=\"$('input', this).show().val($('span', this).hide().text()).focus()[0].select(); document.execCommand('copy')\"><span>23586.4411</span><input style=\"text-align: right; display: none; border: none; width: 100%; background: transparent;\"></span></td></tr><tr><td><pre style=\"width: auto; white-space: nowrap\">currency</pre></td><td><span onclick=\"$('input', this).show().val($('span', this).hide().text()).focus()[0].select(); document.execCommand('copy')\"><span>&#x27;bch&#x27;</span><input style=\"text-align: right; display: none; border: none; width: 100%; background: transparent;\"></span></td></tr></tbody></table></div></td></tr><tr><td><pre style=\"width: auto; white-space: nowrap\">eth</pre></td><td><table style=\"table-layout: auto; width: 100%\"><thead><tr><th style=\"width: auto; white-space: nowrap\">Field</th><th style=\"width: 100%\">Value</th></tr></thead><tbody><tr><td><pre style=\"width: auto; white-space: nowrap\">high</pre></td><td><span onclick=\"$('input', this).show().val($('span', this).hide().text()).focus()[0].select(); document.execCommand('copy')\"><span>559250</span><input style=\"text-align: right; display: none; border: none; width: 100%; background: transparent;\"></span></td></tr><tr><td><pre style=\"width: auto; white-space: nowrap\">low</pre></td><td><span onclick=\"$('input', this).show().val($('span', this).hide().text()).focus()[0].select(); document.execCommand('copy')\"><span>535050</span><input style=\"text-align: right; display: none; border: none; width: 100%; background: transparent;\"></span></td></tr><tr><td><pre style=\"width: auto; white-space: nowrap\">last</pre></td><td><span onclick=\"$('input', this).show().val($('span', this).hide().text()).focus()[0].select(); document.execCommand('copy')\"><span>554850</span><input style=\"text-align: right; display: none; border: none; width: 100%; background: transparent;\"></span></td></tr><tr><td><pre style=\"width: auto; white-space: nowrap\">first</pre></td><td><span onclick=\"$('input', this).show().val($('span', this).hide().text()).focus()[0].select(); document.execCommand('copy')\"><span>544050</span><input style=\"text-align: right; display: none; border: none; width: 100%; background: transparent;\"></span></td></tr><tr><td><pre style=\"width: auto; white-space: nowrap\">volume</pre></td><td><span onclick=\"$('input', this).show().val($('span', this).hide().text()).focus()[0].select(); document.execCommand('copy')\"><span>53590.4324</span><input style=\"text-align: right; display: none; border: none; width: 100%; background: transparent;\"></span></td></tr><tr><td><pre style=\"width: auto; white-space: nowrap\">yesterday_high</pre></td><td><span onclick=\"$('input', this).show().val($('span', this).hide().text()).focus()[0].select(); document.execCommand('copy')\"><span>549900</span><input style=\"text-align: right; display: none; border: none; width: 100%; background: transparent;\"></span></td></tr><tr><td><pre style=\"width: auto; white-space: nowrap\">yesterday_low</pre></td><td><span onclick=\"$('input', this).show().val($('span', this).hide().text()).focus()[0].select(); document.execCommand('copy')\"><span>531300</span><input style=\"text-align: right; display: none; border: none; width: 100%; background: transparent;\"></span></td></tr><tr><td><pre style=\"width: auto; white-space: nowrap\">yesterday_last</pre></td><td><span onclick=\"$('input', this).show().val($('span', this).hide().text()).focus()[0].select(); document.execCommand('copy')\"><span>544100</span><input style=\"text-align: right; display: none; border: none; width: 100%; background: transparent;\"></span></td></tr><tr><td><pre style=\"width: auto; white-space: nowrap\">yesterday_first</pre></td><td><span onclick=\"$('input', this).show().val($('span', this).hide().text()).focus()[0].select(); document.execCommand('copy')\"><span>544400</span><input style=\"text-align: right; display: none; border: none; width: 100%; background: transparent;\"></span></td></tr><tr><td><pre style=\"width: auto; white-space: nowrap\">yesterday_volume</pre></td><td><span onclick=\"$('input', this).show().val($('span', this).hide().text()).focus()[0].select(); document.execCommand('copy')\"><span>53512.6669</span><input style=\"text-align: right; display: none; border: none; width: 100%; background: transparent;\"></span></td></tr><tr><td><pre style=\"width: auto; white-space: nowrap\">currency</pre></td><td><span onclick=\"$('input', this).show().val($('span', this).hide().text()).focus()[0].select(); document.execCommand('copy')\"><span>&#x27;eth&#x27;</span><input style=\"text-align: right; display: none; border: none; width: 100%; background: transparent;\"></span></td></tr></tbody></table></div></td></tr><tr><td><pre style=\"width: auto; white-space: nowrap\">etc</pre></td><td><table style=\"table-layout: auto; width: 100%\"><thead><tr><th style=\"width: auto; white-space: nowrap\">Field</th><th style=\"width: 100%\">Value</th></tr></thead><tbody><tr><td><pre style=\"width: auto; white-space: nowrap\">high</pre></td><td><span onclick=\"$('input', this).show().val($('span', this).hide().text()).focus()[0].select(); document.execCommand('copy')\"><span>34800</span><input style=\"text-align: right; display: none; border: none; width: 100%; background: transparent;\"></span></td></tr><tr><td><pre style=\"width: auto; white-space: nowrap\">low</pre></td><td><span onclick=\"$('input', this).show().val($('span', this).hide().text()).focus()[0].select(); document.execCommand('copy')\"><span>33410</span><input style=\"text-align: right; display: none; border: none; width: 100%; background: transparent;\"></span></td></tr><tr><td><pre style=\"width: auto; white-space: nowrap\">last</pre></td><td><span onclick=\"$('input', this).show().val($('span', this).hide().text()).focus()[0].select(); document.execCommand('copy')\"><span>34280</span><input style=\"text-align: right; display: none; border: none; width: 100%; background: transparent;\"></span></td></tr><tr><td><pre style=\"width: auto; white-space: nowrap\">first</pre></td><td><span onclick=\"$('input', this).show().val($('span', this).hide().text()).focus()[0].select(); document.execCommand('copy')\"><span>34190</span><input style=\"text-align: right; display: none; border: none; width: 100%; background: transparent;\"></span></td></tr><tr><td><pre style=\"width: auto; white-space: nowrap\">volume</pre></td><td><span onclick=\"$('input', this).show().val($('span', this).hide().text()).focus()[0].select(); document.execCommand('copy')\"><span>1103938.0225</span><input style=\"text-align: right; display: none; border: none; width: 100%; background: transparent;\"></span></td></tr><tr><td><pre style=\"width: auto; white-space: nowrap\">yesterday_high</pre></td><td><span onclick=\"$('input', this).show().val($('span', this).hide().text()).focus()[0].select(); document.execCommand('copy')\"><span>35310</span><input style=\"text-align: right; display: none; border: none; width: 100%; background: transparent;\"></span></td></tr><tr><td><pre style=\"width: auto; white-space: nowrap\">yesterday_low</pre></td><td><span onclick=\"$('input', this).show().val($('span', this).hide().text()).focus()[0].select(); document.execCommand('copy')\"><span>33260</span><input style=\"text-align: right; display: none; border: none; width: 100%; background: transparent;\"></span></td></tr><tr><td><pre style=\"width: auto; white-space: nowrap\">yesterday_last</pre></td><td><span onclick=\"$('input', this).show().val($('span', this).hide().text()).focus()[0].select(); document.execCommand('copy')\"><span>34000</span><input style=\"text-align: right; display: none; border: none; width: 100%; background: transparent;\"></span></td></tr><tr><td><pre style=\"width: auto; white-space: nowrap\">yesterday_first</pre></td><td><span onclick=\"$('input', this).show().val($('span', this).hide().text()).focus()[0].select(); document.execCommand('copy')\"><span>34310</span><input style=\"text-align: right; display: none; border: none; width: 100%; background: transparent;\"></span></td></tr><tr><td><pre style=\"width: auto; white-space: nowrap\">yesterday_volume</pre></td><td><span onclick=\"$('input', this).show().val($('span', this).hide().text()).focus()[0].select(); document.execCommand('copy')\"><span>1510229.4827</span><input style=\"text-align: right; display: none; border: none; width: 100%; background: transparent;\"></span></td></tr><tr><td><pre style=\"width: auto; white-space: nowrap\">currency</pre></td><td><span onclick=\"$('input', this).show().val($('span', this).hide().text()).focus()[0].select(); document.execCommand('copy')\"><span>&#x27;etc&#x27;</span><input style=\"text-align: right; display: none; border: none; width: 100%; background: transparent;\"></span></td></tr></tbody></table></div></td></tr><tr><td><pre style=\"width: auto; white-space: nowrap\">xrp</pre></td><td><table style=\"table-layout: auto; width: 100%\"><thead><tr><th style=\"width: auto; white-space: nowrap\">Field</th><th style=\"width: 100%\">Value</th></tr></thead><tbody><tr><td><pre style=\"width: auto; white-space: nowrap\">high</pre></td><td><span onclick=\"$('input', this).show().val($('span', this).hide().text()).focus()[0].select(); document.execCommand('copy')\"><span>292</span><input style=\"text-align: right; display: none; border: none; width: 100%; background: transparent;\"></span></td></tr><tr><td><pre style=\"width: auto; white-space: nowrap\">low</pre></td><td><span onclick=\"$('input', this).show().val($('span', this).hide().text()).focus()[0].select(); document.execCommand('copy')\"><span>283</span><input style=\"text-align: right; display: none; border: none; width: 100%; background: transparent;\"></span></td></tr><tr><td><pre style=\"width: auto; white-space: nowrap\">last</pre></td><td><span onclick=\"$('input', this).show().val($('span', this).hide().text()).focus()[0].select(); document.execCommand('copy')\"><span>290</span><input style=\"text-align: right; display: none; border: none; width: 100%; background: transparent;\"></span></td></tr><tr><td><pre style=\"width: auto; white-space: nowrap\">first</pre></td><td><span onclick=\"$('input', this).show().val($('span', this).hide().text()).focus()[0].select(); document.execCommand('copy')\"><span>290</span><input style=\"text-align: right; display: none; border: none; width: 100%; background: transparent;\"></span></td></tr><tr><td><pre style=\"width: auto; white-space: nowrap\">volume</pre></td><td><span onclick=\"$('input', this).show().val($('span', this).hide().text()).focus()[0].select(); document.execCommand('copy')\"><span>34593182.5689</span><input style=\"text-align: right; display: none; border: none; width: 100%; background: transparent;\"></span></td></tr><tr><td><pre style=\"width: auto; white-space: nowrap\">yesterday_high</pre></td><td><span onclick=\"$('input', this).show().val($('span', this).hide().text()).focus()[0].select(); document.execCommand('copy')\"><span>292</span><input style=\"text-align: right; display: none; border: none; width: 100%; background: transparent;\"></span></td></tr><tr><td><pre style=\"width: auto; white-space: nowrap\">yesterday_low</pre></td><td><span onclick=\"$('input', this).show().val($('span', this).hide().text()).focus()[0].select(); document.execCommand('copy')\"><span>283</span><input style=\"text-align: right; display: none; border: none; width: 100%; background: transparent;\"></span></td></tr><tr><td><pre style=\"width: auto; white-space: nowrap\">yesterday_last</pre></td><td><span onclick=\"$('input', this).show().val($('span', this).hide().text()).focus()[0].select(); document.execCommand('copy')\"><span>287</span><input style=\"text-align: right; display: none; border: none; width: 100%; background: transparent;\"></span></td></tr><tr><td><pre style=\"width: auto; white-space: nowrap\">yesterday_first</pre></td><td><span onclick=\"$('input', this).show().val($('span', this).hide().text()).focus()[0].select(); document.execCommand('copy')\"><span>290</span><input style=\"text-align: right; display: none; border: none; width: 100%; background: transparent;\"></span></td></tr><tr><td><pre style=\"width: auto; white-space: nowrap\">yesterday_volume</pre></td><td><span onclick=\"$('input', this).show().val($('span', this).hide().text()).focus()[0].select(); document.execCommand('copy')\"><span>36090789.4715</span><input style=\"text-align: right; display: none; border: none; width: 100%; background: transparent;\"></span></td></tr><tr><td><pre style=\"width: auto; white-space: nowrap\">currency</pre></td><td><span onclick=\"$('input', this).show().val($('span', this).hide().text()).focus()[0].select(); document.execCommand('copy')\"><span>&#x27;xrp&#x27;</span><input style=\"text-align: right; display: none; border: none; width: 100%; background: transparent;\"></span></td></tr></tbody></table></div></td></tr><tr><td><pre style=\"width: auto; white-space: nowrap\">qtum</pre></td><td><table style=\"table-layout: auto; width: 100%\"><thead><tr><th style=\"width: auto; white-space: nowrap\">Field</th><th style=\"width: 100%\">Value</th></tr></thead><tbody><tr><td><pre style=\"width: auto; white-space: nowrap\">high</pre></td><td><span onclick=\"$('input', this).show().val($('span', this).hide().text()).focus()[0].select(); document.execCommand('copy')\"><span>16200</span><input style=\"text-align: right; display: none; border: none; width: 100%; background: transparent;\"></span></td></tr><tr><td><pre style=\"width: auto; white-space: nowrap\">low</pre></td><td><span onclick=\"$('input', this).show().val($('span', this).hide().text()).focus()[0].select(); document.execCommand('copy')\"><span>14780</span><input style=\"text-align: right; display: none; border: none; width: 100%; background: transparent;\"></span></td></tr><tr><td><pre style=\"width: auto; white-space: nowrap\">last</pre></td><td><span onclick=\"$('input', this).show().val($('span', this).hide().text()).focus()[0].select(); document.execCommand('copy')\"><span>15590</span><input style=\"text-align: right; display: none; border: none; width: 100%; background: transparent;\"></span></td></tr><tr><td><pre style=\"width: auto; white-space: nowrap\">first</pre></td><td><span onclick=\"$('input', this).show().val($('span', this).hide().text()).focus()[0].select(); document.execCommand('copy')\"><span>15040</span><input style=\"text-align: right; display: none; border: none; width: 100%; background: transparent;\"></span></td></tr><tr><td><pre style=\"width: auto; white-space: nowrap\">volume</pre></td><td><span onclick=\"$('input', this).show().val($('span', this).hide().text()).focus()[0].select(); document.execCommand('copy')\"><span>1104242.7943</span><input style=\"text-align: right; display: none; border: none; width: 100%; background: transparent;\"></span></td></tr><tr><td><pre style=\"width: auto; white-space: nowrap\">yesterday_high</pre></td><td><span onclick=\"$('input', this).show().val($('span', this).hide().text()).focus()[0].select(); document.execCommand('copy')\"><span>15490</span><input style=\"text-align: right; display: none; border: none; width: 100%; background: transparent;\"></span></td></tr><tr><td><pre style=\"width: auto; white-space: nowrap\">yesterday_low</pre></td><td><span onclick=\"$('input', this).show().val($('span', this).hide().text()).focus()[0].select(); document.execCommand('copy')\"><span>14600</span><input style=\"text-align: right; display: none; border: none; width: 100%; background: transparent;\"></span></td></tr><tr><td><pre style=\"width: auto; white-space: nowrap\">yesterday_last</pre></td><td><span onclick=\"$('input', this).show().val($('span', this).hide().text()).focus()[0].select(); document.execCommand('copy')\"><span>15070</span><input style=\"text-align: right; display: none; border: none; width: 100%; background: transparent;\"></span></td></tr><tr><td><pre style=\"width: auto; white-space: nowrap\">yesterday_first</pre></td><td><span onclick=\"$('input', this).show().val($('span', this).hide().text()).focus()[0].select(); document.execCommand('copy')\"><span>15240</span><input style=\"text-align: right; display: none; border: none; width: 100%; background: transparent;\"></span></td></tr><tr><td><pre style=\"width: auto; white-space: nowrap\">yesterday_volume</pre></td><td><span onclick=\"$('input', this).show().val($('span', this).hide().text()).focus()[0].select(); document.execCommand('copy')\"><span>552411.0275</span><input style=\"text-align: right; display: none; border: none; width: 100%; background: transparent;\"></span></td></tr><tr><td><pre style=\"width: auto; white-space: nowrap\">currency</pre></td><td><span onclick=\"$('input', this).show().val($('span', this).hide().text()).focus()[0].select(); document.execCommand('copy')\"><span>&#x27;qtum&#x27;</span><input style=\"text-align: right; display: none; border: none; width: 100%; background: transparent;\"></span></td></tr></tbody></table></div></td></tr><tr><td><pre style=\"width: auto; white-space: nowrap\">iota</pre></td><td><table style=\"table-layout: auto; width: 100%\"><thead><tr><th style=\"width: auto; white-space: nowrap\">Field</th><th style=\"width: 100%\">Value</th></tr></thead><tbody><tr><td><pre style=\"width: auto; white-space: nowrap\">high</pre></td><td><span onclick=\"$('input', this).show().val($('span', this).hide().text()).focus()[0].select(); document.execCommand('copy')\"><span>3870</span><input style=\"text-align: right; display: none; border: none; width: 100%; background: transparent;\"></span></td></tr><tr><td><pre style=\"width: auto; white-space: nowrap\">low</pre></td><td><span onclick=\"$('input', this).show().val($('span', this).hide().text()).focus()[0].select(); document.execCommand('copy')\"><span>2640</span><input style=\"text-align: right; display: none; border: none; width: 100%; background: transparent;\"></span></td></tr><tr><td><pre style=\"width: auto; white-space: nowrap\">last</pre></td><td><span onclick=\"$('input', this).show().val($('span', this).hide().text()).focus()[0].select(); document.execCommand('copy')\"><span>3820</span><input style=\"text-align: right; display: none; border: none; width: 100%; background: transparent;\"></span></td></tr><tr><td><pre style=\"width: auto; white-space: nowrap\">first</pre></td><td><span onclick=\"$('input', this).show().val($('span', this).hide().text()).focus()[0].select(); document.execCommand('copy')\"><span>2710</span><input style=\"text-align: right; display: none; border: none; width: 100%; background: transparent;\"></span></td></tr><tr><td><pre style=\"width: auto; white-space: nowrap\">volume</pre></td><td><span onclick=\"$('input', this).show().val($('span', this).hide().text()).focus()[0].select(); document.execCommand('copy')\"><span>62409079.8666</span><input style=\"text-align: right; display: none; border: none; width: 100%; background: transparent;\"></span></td></tr><tr><td><pre style=\"width: auto; white-space: nowrap\">yesterday_high</pre></td><td><span onclick=\"$('input', this).show().val($('span', this).hide().text()).focus()[0].select(); document.execCommand('copy')\"><span>2950</span><input style=\"text-align: right; display: none; border: none; width: 100%; background: transparent;\"></span></td></tr><tr><td><pre style=\"width: auto; white-space: nowrap\">yesterday_low</pre></td><td><span onclick=\"$('input', this).show().val($('span', this).hide().text()).focus()[0].select(); document.execCommand('copy')\"><span>1900</span><input style=\"text-align: right; display: none; border: none; width: 100%; background: transparent;\"></span></td></tr><tr><td><pre style=\"width: auto; white-space: nowrap\">yesterday_last</pre></td><td><span onclick=\"$('input', this).show().val($('span', this).hide().text()).focus()[0].select(); document.execCommand('copy')\"><span>2925</span><input style=\"text-align: right; display: none; border: none; width: 100%; background: transparent;\"></span></td></tr><tr><td><pre style=\"width: auto; white-space: nowrap\">yesterday_first</pre></td><td><span onclick=\"$('input', this).show().val($('span', this).hide().text()).focus()[0].select(); document.execCommand('copy')\"><span>2150</span><input style=\"text-align: right; display: none; border: none; width: 100%; background: transparent;\"></span></td></tr><tr><td><pre style=\"width: auto; white-space: nowrap\">yesterday_volume</pre></td><td><span onclick=\"$('input', this).show().val($('span', this).hide().text()).focus()[0].select(); document.execCommand('copy')\"><span>60941175.9016</span><input style=\"text-align: right; display: none; border: none; width: 100%; background: transparent;\"></span></td></tr><tr><td><pre style=\"width: auto; white-space: nowrap\">currency</pre></td><td><span onclick=\"$('input', this).show().val($('span', this).hide().text()).focus()[0].select(); document.execCommand('copy')\"><span>&#x27;iota&#x27;</span><input style=\"text-align: right; display: none; border: none; width: 100%; background: transparent;\"></span></td></tr></tbody></table></div></td></tr><tr><td><pre style=\"width: auto; white-space: nowrap\">ltc</pre></td><td><table style=\"table-layout: auto; width: 100%\"><thead><tr><th style=\"width: auto; white-space: nowrap\">Field</th><th style=\"width: 100%\">Value</th></tr></thead><tbody><tr><td><pre style=\"width: auto; white-space: nowrap\">high</pre></td><td><span onclick=\"$('input', this).show().val($('span', this).hide().text()).focus()[0].select(); document.execCommand('copy')\"><span>122750</span><input style=\"text-align: right; display: none; border: none; width: 100%; background: transparent;\"></span></td></tr><tr><td><pre style=\"width: auto; white-space: nowrap\">low</pre></td><td><span onclick=\"$('input', this).show().val($('span', this).hide().text()).focus()[0].select(); document.execCommand('copy')\"><span>114250</span><input style=\"text-align: right; display: none; border: none; width: 100%; background: transparent;\"></span></td></tr><tr><td><pre style=\"width: auto; white-space: nowrap\">last</pre></td><td><span onclick=\"$('input', this).show().val($('span', this).hide().text()).focus()[0].select(); document.execCommand('copy')\"><span>120500</span><input style=\"text-align: right; display: none; border: none; width: 100%; background: transparent;\"></span></td></tr><tr><td><pre style=\"width: auto; white-space: nowrap\">first</pre></td><td><span onclick=\"$('input', this).show().val($('span', this).hide().text()).focus()[0].select(); document.execCommand('copy')\"><span>116900</span><input style=\"text-align: right; display: none; border: none; width: 100%; background: transparent;\"></span></td></tr><tr><td><pre style=\"width: auto; white-space: nowrap\">volume</pre></td><td><span onclick=\"$('input', this).show().val($('span', this).hide().text()).focus()[0].select(); document.execCommand('copy')\"><span>37515.0268</span><input style=\"text-align: right; display: none; border: none; width: 100%; background: transparent;\"></span></td></tr><tr><td><pre style=\"width: auto; white-space: nowrap\">yesterday_high</pre></td><td><span onclick=\"$('input', this).show().val($('span', this).hide().text()).focus()[0].select(); document.execCommand('copy')\"><span>120000</span><input style=\"text-align: right; display: none; border: none; width: 100%; background: transparent;\"></span></td></tr><tr><td><pre style=\"width: auto; white-space: nowrap\">yesterday_low</pre></td><td><span onclick=\"$('input', this).show().val($('span', this).hide().text()).focus()[0].select(); document.execCommand('copy')\"><span>114250</span><input style=\"text-align: right; display: none; border: none; width: 100%; background: transparent;\"></span></td></tr><tr><td><pre style=\"width: auto; white-space: nowrap\">yesterday_last</pre></td><td><span onclick=\"$('input', this).show().val($('span', this).hide().text()).focus()[0].select(); document.execCommand('copy')\"><span>116150</span><input style=\"text-align: right; display: none; border: none; width: 100%; background: transparent;\"></span></td></tr><tr><td><pre style=\"width: auto; white-space: nowrap\">yesterday_first</pre></td><td><span onclick=\"$('input', this).show().val($('span', this).hide().text()).focus()[0].select(); document.execCommand('copy')\"><span>117500</span><input style=\"text-align: right; display: none; border: none; width: 100%; background: transparent;\"></span></td></tr><tr><td><pre style=\"width: auto; white-space: nowrap\">yesterday_volume</pre></td><td><span onclick=\"$('input', this).show().val($('span', this).hide().text()).focus()[0].select(); document.execCommand('copy')\"><span>24772.152</span><input style=\"text-align: right; display: none; border: none; width: 100%; background: transparent;\"></span></td></tr><tr><td><pre style=\"width: auto; white-space: nowrap\">currency</pre></td><td><span onclick=\"$('input', this).show().val($('span', this).hide().text()).focus()[0].select(); document.execCommand('copy')\"><span>&#x27;ltc&#x27;</span><input style=\"text-align: right; display: none; border: none; width: 100%; background: transparent;\"></span></td></tr></tbody></table></div></td></tr><tr><td><pre style=\"width: auto; white-space: nowrap\">timestamp</pre></td><td><span onclick=\"$('input', this).show().val($('span', this).hide().text()).focus()[0].select(); document.execCommand('copy')\"><span>1512453196</span><input style=\"text-align: right; display: none; border: none; width: 100%; background: transparent;\"></span></td></tr></tbody></table></div>"
      ],
      "text/plain": [
       "<coinone.api.common.public.TickerAll at 0x1060ff7f0>"
      ]
     },
     "execution_count": 21,
     "metadata": {},
     "output_type": "execute_result"
    }
   ],
   "source": [
    "v2.ticker_all()"
   ]
  },
  {
   "cell_type": "markdown",
   "metadata": {},
   "source": [
    "## Transaction"
   ]
  },
  {
   "cell_type": "markdown",
   "metadata": {},
   "source": [
    "### Coin Transactions History\n",
    "\n",
    "가상화폐들 주고받은 흔적을 보자구요."
   ]
  },
  {
   "cell_type": "code",
   "execution_count": 22,
   "metadata": {},
   "outputs": [
    {
     "data": {
      "text/html": [
       "<table style=\"table-layout: auto; width: 100%\"><thead><tr><th style=\"width: auto; white-space: nowrap\">Field</th><th style=\"width: 100%\">Value</th></tr></thead><tbody><tr><td><pre style=\"width: auto; white-space: nowrap\">result</pre></td><td><span onclick=\"$('input', this).show().val($('span', this).hide().text()).focus()[0].select(); document.execCommand('copy')\"><span>&#x27;success&#x27;</span><input style=\"text-align: right; display: none; border: none; width: 100%; background: transparent;\"></span></td></tr><tr><td><pre style=\"width: auto; white-space: nowrap\">errorCode</pre></td><td><span onclick=\"$('input', this).show().val($('span', this).hide().text()).focus()[0].select(); document.execCommand('copy')\"><span>&#x27;0&#x27;</span><input style=\"text-align: right; display: none; border: none; width: 100%; background: transparent;\"></span></td></tr><tr><td><pre style=\"width: auto; white-space: nowrap\">transactions</pre></td><td><ul style=\"max-height: 20em; overflow-y: auto\"></ul></td></tr></tbody></table></div>"
      ],
      "text/plain": [
       "<coinone.api.v2.transaction.CoinTransactions at 0x106121e10>"
      ]
     },
     "execution_count": 22,
     "metadata": {},
     "output_type": "execute_result"
    }
   ],
   "source": [
    "v2.transaction.history(currency=Currency.BTC)"
   ]
  },
  {
   "cell_type": "markdown",
   "metadata": {},
   "source": [
    "### KRW Transactions History\n",
    "\n",
    "이젠 원화도 볼 차례입니다!"
   ]
  },
  {
   "cell_type": "code",
   "execution_count": 23,
   "metadata": {},
   "outputs": [
    {
     "data": {
      "text/html": [
       "<table style=\"table-layout: auto; width: 100%\"><thead><tr><th style=\"width: auto; white-space: nowrap\">Field</th><th style=\"width: 100%\">Value</th></tr></thead><tbody><tr><td><pre style=\"width: auto; white-space: nowrap\">result</pre></td><td><span onclick=\"$('input', this).show().val($('span', this).hide().text()).focus()[0].select(); document.execCommand('copy')\"><span>&#x27;success&#x27;</span><input style=\"text-align: right; display: none; border: none; width: 100%; background: transparent;\"></span></td></tr><tr><td><pre style=\"width: auto; white-space: nowrap\">errorCode</pre></td><td><span onclick=\"$('input', this).show().val($('span', this).hide().text()).focus()[0].select(); document.execCommand('copy')\"><span>&#x27;0&#x27;</span><input style=\"text-align: right; display: none; border: none; width: 100%; background: transparent;\"></span></td></tr><tr><td><pre style=\"width: auto; white-space: nowrap\">krwHistory</pre></td><td><ul style=\"max-height: 20em; overflow-y: auto\"><li><table style=\"table-layout: auto; width: 100%\"><thead><tr><th style=\"width: auto; white-space: nowrap\">Field</th><th style=\"width: 100%\">Value</th></tr></thead><tbody><tr><td><pre style=\"width: auto; white-space: nowrap\">bankCode</pre></td><td><span onclick=\"$('input', this).show().val($('span', this).hide().text()).focus()[0].select(); document.execCommand('copy')\"><span>90</span><input style=\"text-align: right; display: none; border: none; width: 100%; background: transparent;\"></span></td></tr><tr><td><pre style=\"width: auto; white-space: nowrap\">accountNumber</pre></td><td><span onclick=\"$('input', this).show().val($('span', this).hide().text()).focus()[0].select(); document.execCommand('copy')\"><span>&#x27;&#x27;</span><input style=\"text-align: right; display: none; border: none; width: 100%; background: transparent;\"></span></td></tr><tr><td><pre style=\"width: auto; white-space: nowrap\">depositor</pre></td><td><span onclick=\"$('input', this).show().val($('span', this).hide().text()).focus()[0].select(); document.execCommand('copy')\"><span>&#x27;이성광              &#x27;</span><input style=\"text-align: right; display: none; border: none; width: 100%; background: transparent;\"></span></td></tr><tr><td><pre style=\"width: auto; white-space: nowrap\">amount</pre></td><td><span onclick=\"$('input', this).show().val($('span', this).hide().text()).focus()[0].select(); document.execCommand('copy')\"><span>50000</span><input style=\"text-align: right; display: none; border: none; width: 100%; background: transparent;\"></span></td></tr><tr><td><pre style=\"width: auto; white-space: nowrap\">processLevel</pre></td><td><span onclick=\"$('input', this).show().val($('span', this).hide().text()).focus()[0].select(); document.execCommand('copy')\"><span>1</span><input style=\"text-align: right; display: none; border: none; width: 100%; background: transparent;\"></span></td></tr><tr><td><pre style=\"width: auto; white-space: nowrap\">timestamp</pre></td><td><span onclick=\"$('input', this).show().val($('span', this).hide().text()).focus()[0].select(); document.execCommand('copy')\"><span>1512132023</span><input style=\"text-align: right; display: none; border: none; width: 100%; background: transparent;\"></span></td></tr></tbody></table></div></li><li><table style=\"table-layout: auto; width: 100%\"><thead><tr><th style=\"width: auto; white-space: nowrap\">Field</th><th style=\"width: 100%\">Value</th></tr></thead><tbody><tr><td><pre style=\"width: auto; white-space: nowrap\">bankCode</pre></td><td><span onclick=\"$('input', this).show().val($('span', this).hide().text()).focus()[0].select(); document.execCommand('copy')\"><span>20</span><input style=\"text-align: right; display: none; border: none; width: 100%; background: transparent;\"></span></td></tr><tr><td><pre style=\"width: auto; white-space: nowrap\">accountNumber</pre></td><td><span onclick=\"$('input', this).show().val($('span', this).hide().text()).focus()[0].select(); document.execCommand('copy')\"><span>&#x27;0000000000000&#x27;</span><input style=\"text-align: right; display: none; border: none; width: 100%; background: transparent;\"></span></td></tr><tr><td><pre style=\"width: auto; white-space: nowrap\">depositor</pre></td><td><span onclick=\"$('input', this).show().val($('span', this).hide().text()).focus()[0].select(); document.execCommand('copy')\"><span>&#x27;이성광&#x27;</span><input style=\"text-align: right; display: none; border: none; width: 100%; background: transparent;\"></span></td></tr><tr><td><pre style=\"width: auto; white-space: nowrap\">amount</pre></td><td><span onclick=\"$('input', this).show().val($('span', this).hide().text()).focus()[0].select(); document.execCommand('copy')\"><span>33640</span><input style=\"text-align: right; display: none; border: none; width: 100%; background: transparent;\"></span></td></tr><tr><td><pre style=\"width: auto; white-space: nowrap\">processLevel</pre></td><td><span onclick=\"$('input', this).show().val($('span', this).hide().text()).focus()[0].select(); document.execCommand('copy')\"><span>5</span><input style=\"text-align: right; display: none; border: none; width: 100%; background: transparent;\"></span></td></tr><tr><td><pre style=\"width: auto; white-space: nowrap\">timestamp</pre></td><td><span onclick=\"$('input', this).show().val($('span', this).hide().text()).focus()[0].select(); document.execCommand('copy')\"><span>1503273022</span><input style=\"text-align: right; display: none; border: none; width: 100%; background: transparent;\"></span></td></tr></tbody></table></div></li><li><table style=\"table-layout: auto; width: 100%\"><thead><tr><th style=\"width: auto; white-space: nowrap\">Field</th><th style=\"width: 100%\">Value</th></tr></thead><tbody><tr><td><pre style=\"width: auto; white-space: nowrap\">bankCode</pre></td><td><span onclick=\"$('input', this).show().val($('span', this).hide().text()).focus()[0].select(); document.execCommand('copy')\"><span>20</span><input style=\"text-align: right; display: none; border: none; width: 100%; background: transparent;\"></span></td></tr><tr><td><pre style=\"width: auto; white-space: nowrap\">accountNumber</pre></td><td><span onclick=\"$('input', this).show().val($('span', this).hide().text()).focus()[0].select(); document.execCommand('copy')\"><span>&#x27;&#x27;</span><input style=\"text-align: right; display: none; border: none; width: 100%; background: transparent;\"></span></td></tr><tr><td><pre style=\"width: auto; white-space: nowrap\">depositor</pre></td><td><span onclick=\"$('input', this).show().val($('span', this).hide().text()).focus()[0].select(); document.execCommand('copy')\"><span>&#x27;이성광              &#x27;</span><input style=\"text-align: right; display: none; border: none; width: 100%; background: transparent;\"></span></td></tr><tr><td><pre style=\"width: auto; white-space: nowrap\">amount</pre></td><td><span onclick=\"$('input', this).show().val($('span', this).hide().text()).focus()[0].select(); document.execCommand('copy')\"><span>10000</span><input style=\"text-align: right; display: none; border: none; width: 100%; background: transparent;\"></span></td></tr><tr><td><pre style=\"width: auto; white-space: nowrap\">processLevel</pre></td><td><span onclick=\"$('input', this).show().val($('span', this).hide().text()).focus()[0].select(); document.execCommand('copy')\"><span>1</span><input style=\"text-align: right; display: none; border: none; width: 100%; background: transparent;\"></span></td></tr><tr><td><pre style=\"width: auto; white-space: nowrap\">timestamp</pre></td><td><span onclick=\"$('input', this).show().val($('span', this).hide().text()).focus()[0].select(); document.execCommand('copy')\"><span>1499047842</span><input style=\"text-align: right; display: none; border: none; width: 100%; background: transparent;\"></span></td></tr></tbody></table></div></li><li><table style=\"table-layout: auto; width: 100%\"><thead><tr><th style=\"width: auto; white-space: nowrap\">Field</th><th style=\"width: 100%\">Value</th></tr></thead><tbody><tr><td><pre style=\"width: auto; white-space: nowrap\">bankCode</pre></td><td><span onclick=\"$('input', this).show().val($('span', this).hide().text()).focus()[0].select(); document.execCommand('copy')\"><span>20</span><input style=\"text-align: right; display: none; border: none; width: 100%; background: transparent;\"></span></td></tr><tr><td><pre style=\"width: auto; white-space: nowrap\">accountNumber</pre></td><td><span onclick=\"$('input', this).show().val($('span', this).hide().text()).focus()[0].select(); document.execCommand('copy')\"><span>&#x27;&#x27;</span><input style=\"text-align: right; display: none; border: none; width: 100%; background: transparent;\"></span></td></tr><tr><td><pre style=\"width: auto; white-space: nowrap\">depositor</pre></td><td><span onclick=\"$('input', this).show().val($('span', this).hide().text()).focus()[0].select(); document.execCommand('copy')\"><span>&#x27;이성광              &#x27;</span><input style=\"text-align: right; display: none; border: none; width: 100%; background: transparent;\"></span></td></tr><tr><td><pre style=\"width: auto; white-space: nowrap\">amount</pre></td><td><span onclick=\"$('input', this).show().val($('span', this).hide().text()).focus()[0].select(); document.execCommand('copy')\"><span>20000</span><input style=\"text-align: right; display: none; border: none; width: 100%; background: transparent;\"></span></td></tr><tr><td><pre style=\"width: auto; white-space: nowrap\">processLevel</pre></td><td><span onclick=\"$('input', this).show().val($('span', this).hide().text()).focus()[0].select(); document.execCommand('copy')\"><span>1</span><input style=\"text-align: right; display: none; border: none; width: 100%; background: transparent;\"></span></td></tr><tr><td><pre style=\"width: auto; white-space: nowrap\">timestamp</pre></td><td><span onclick=\"$('input', this).show().val($('span', this).hide().text()).focus()[0].select(); document.execCommand('copy')\"><span>1498542483</span><input style=\"text-align: right; display: none; border: none; width: 100%; background: transparent;\"></span></td></tr></tbody></table></div></li></ul></td></tr></tbody></table></div>"
      ],
      "text/plain": [
       "<coinone.api.common.transaction.KrwHistory at 0x105693048>"
      ]
     },
     "execution_count": 23,
     "metadata": {},
     "output_type": "execute_result"
    }
   ],
   "source": [
    "v2.transaction.krw.history()"
   ]
  },
  {
   "cell_type": "markdown",
   "metadata": {},
   "source": [
    "### 2-Factor Authentication\n",
    "\n",
    "송금은 너무나도 위험한 작업이라 반드시 이중인증을 거쳐야됩니다. 인증번호부터 먼저 쏴보죠.\n",
    "\n",
    "실행하기 전에 먼저 핸드폰을 찾아두시는걸 추천해요."
   ]
  },
  {
   "cell_type": "code",
   "execution_count": 24,
   "metadata": {},
   "outputs": [
    {
     "data": {
      "text/html": [
       "<table style=\"table-layout: auto; width: 100%\"><thead><tr><th style=\"width: auto; white-space: nowrap\">Field</th><th style=\"width: 100%\">Value</th></tr></thead><tbody><tr><td><pre style=\"width: auto; white-space: nowrap\">result</pre></td><td><span onclick=\"$('input', this).show().val($('span', this).hide().text()).focus()[0].select(); document.execCommand('copy')\"><span>&#x27;success&#x27;</span><input style=\"text-align: right; display: none; border: none; width: 100%; background: transparent;\"></span></td></tr><tr><td><pre style=\"width: auto; white-space: nowrap\">errorCode</pre></td><td><span onclick=\"$('input', this).show().val($('span', this).hide().text()).focus()[0].select(); document.execCommand('copy')\"><span>&#x27;0&#x27;</span><input style=\"text-align: right; display: none; border: none; width: 100%; background: transparent;\"></span></td></tr></tbody></table></div>"
      ],
      "text/plain": [
       "<coinone.api.base.ApiResult at 0x10623b978>"
      ]
     },
     "execution_count": 24,
     "metadata": {},
     "output_type": "execute_result"
    }
   ],
   "source": [
    "v2.transaction.auth_number(type=Currency.BTC)"
   ]
  },
  {
   "cell_type": "markdown",
   "metadata": {},
   "source": [
    "### Send Coin \n",
    "\n",
    "이 API는 이 문서가 작성된 2017년 12월 5일 당시 아직 open되지 않았습니다."
   ]
  },
  {
   "cell_type": "code",
   "execution_count": 25,
   "metadata": {},
   "outputs": [],
   "source": [
    "if False:\n",
    "    v2.transaction.coin(currency=Currency.BTC, address='', auth_number=0, qty=0.0001)"
   ]
  },
  {
   "cell_type": "markdown",
   "metadata": {},
   "source": [
    "## Conclusion\n",
    "\n",
    "자, API 설명은 여기까지입니다. 이제 여러분만의 *로보어드바이저*를 만들어보세요 !"
   ]
  },
  {
   "cell_type": "markdown",
   "metadata": {},
   "source": [
    "![Donate 0.0001 BTC][donate]\n",
    "\n",
    "\n",
    "by [gwangyi](bitcoin:1Kpe6efEdxrjuDPKGYLN8NzqPJ4YQA4xm1?amount=0.0001)\n",
    "\n",
    "\n",
    "[donate]: data:image/png;base64,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"
   ]
  }
 ],
 "metadata": {
  "kernelspec": {
   "display_name": "Python 3",
   "language": "python",
   "name": "python3"
  },
  "language_info": {
   "codemirror_mode": {
    "name": "ipython",
    "version": 3
   },
   "file_extension": ".py",
   "mimetype": "text/x-python",
   "name": "python",
   "nbconvert_exporter": "python",
   "pygments_lexer": "ipython3",
   "version": "3.6.3"
  }
 },
 "nbformat": 4,
 "nbformat_minor": 2
}
